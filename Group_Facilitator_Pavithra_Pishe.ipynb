{
 "cells": [
  {
   "cell_type": "code",
   "execution_count": 205,
   "id": "68443a1e",
   "metadata": {},
   "outputs": [],
   "source": [
    "import pandas as pd\n",
    "import numpy as np\n",
    "import seaborn as sns\n",
    "import matplotlib.pyplot as plt\n",
    "import warnings\n",
    "warnings.filterwarnings(action=\"ignore\")\n",
    "from ydata_profiling import ProfileReport\n",
    "\n",
    "import datetime"
   ]
  },
  {
   "cell_type": "code",
   "execution_count": 206,
   "id": "2568d8ca",
   "metadata": {},
   "outputs": [
    {
     "data": {
      "text/html": [
       "<div>\n",
       "<style scoped>\n",
       "    .dataframe tbody tr th:only-of-type {\n",
       "        vertical-align: middle;\n",
       "    }\n",
       "\n",
       "    .dataframe tbody tr th {\n",
       "        vertical-align: top;\n",
       "    }\n",
       "\n",
       "    .dataframe thead th {\n",
       "        text-align: right;\n",
       "    }\n",
       "</style>\n",
       "<table border=\"1\" class=\"dataframe\">\n",
       "  <thead>\n",
       "    <tr style=\"text-align: right;\">\n",
       "      <th></th>\n",
       "      <th>id</th>\n",
       "      <th>member_id</th>\n",
       "      <th>loan_amnt</th>\n",
       "      <th>funded_amnt</th>\n",
       "      <th>funded_amnt_inv</th>\n",
       "      <th>term</th>\n",
       "      <th>int_rate</th>\n",
       "      <th>installment</th>\n",
       "      <th>grade</th>\n",
       "      <th>sub_grade</th>\n",
       "      <th>...</th>\n",
       "      <th>num_tl_90g_dpd_24m</th>\n",
       "      <th>num_tl_op_past_12m</th>\n",
       "      <th>pct_tl_nvr_dlq</th>\n",
       "      <th>percent_bc_gt_75</th>\n",
       "      <th>pub_rec_bankruptcies</th>\n",
       "      <th>tax_liens</th>\n",
       "      <th>tot_hi_cred_lim</th>\n",
       "      <th>total_bal_ex_mort</th>\n",
       "      <th>total_bc_limit</th>\n",
       "      <th>total_il_high_credit_limit</th>\n",
       "    </tr>\n",
       "  </thead>\n",
       "  <tbody>\n",
       "    <tr>\n",
       "      <th>0</th>\n",
       "      <td>1077501</td>\n",
       "      <td>1296599</td>\n",
       "      <td>5000</td>\n",
       "      <td>5000</td>\n",
       "      <td>4975.0</td>\n",
       "      <td>36 months</td>\n",
       "      <td>10.65%</td>\n",
       "      <td>162.87</td>\n",
       "      <td>B</td>\n",
       "      <td>B2</td>\n",
       "      <td>...</td>\n",
       "      <td>NaN</td>\n",
       "      <td>NaN</td>\n",
       "      <td>NaN</td>\n",
       "      <td>NaN</td>\n",
       "      <td>0.0</td>\n",
       "      <td>0.0</td>\n",
       "      <td>NaN</td>\n",
       "      <td>NaN</td>\n",
       "      <td>NaN</td>\n",
       "      <td>NaN</td>\n",
       "    </tr>\n",
       "    <tr>\n",
       "      <th>1</th>\n",
       "      <td>1077430</td>\n",
       "      <td>1314167</td>\n",
       "      <td>2500</td>\n",
       "      <td>2500</td>\n",
       "      <td>2500.0</td>\n",
       "      <td>60 months</td>\n",
       "      <td>15.27%</td>\n",
       "      <td>59.83</td>\n",
       "      <td>C</td>\n",
       "      <td>C4</td>\n",
       "      <td>...</td>\n",
       "      <td>NaN</td>\n",
       "      <td>NaN</td>\n",
       "      <td>NaN</td>\n",
       "      <td>NaN</td>\n",
       "      <td>0.0</td>\n",
       "      <td>0.0</td>\n",
       "      <td>NaN</td>\n",
       "      <td>NaN</td>\n",
       "      <td>NaN</td>\n",
       "      <td>NaN</td>\n",
       "    </tr>\n",
       "    <tr>\n",
       "      <th>2</th>\n",
       "      <td>1077175</td>\n",
       "      <td>1313524</td>\n",
       "      <td>2400</td>\n",
       "      <td>2400</td>\n",
       "      <td>2400.0</td>\n",
       "      <td>36 months</td>\n",
       "      <td>15.96%</td>\n",
       "      <td>84.33</td>\n",
       "      <td>C</td>\n",
       "      <td>C5</td>\n",
       "      <td>...</td>\n",
       "      <td>NaN</td>\n",
       "      <td>NaN</td>\n",
       "      <td>NaN</td>\n",
       "      <td>NaN</td>\n",
       "      <td>0.0</td>\n",
       "      <td>0.0</td>\n",
       "      <td>NaN</td>\n",
       "      <td>NaN</td>\n",
       "      <td>NaN</td>\n",
       "      <td>NaN</td>\n",
       "    </tr>\n",
       "    <tr>\n",
       "      <th>3</th>\n",
       "      <td>1076863</td>\n",
       "      <td>1277178</td>\n",
       "      <td>10000</td>\n",
       "      <td>10000</td>\n",
       "      <td>10000.0</td>\n",
       "      <td>36 months</td>\n",
       "      <td>13.49%</td>\n",
       "      <td>339.31</td>\n",
       "      <td>C</td>\n",
       "      <td>C1</td>\n",
       "      <td>...</td>\n",
       "      <td>NaN</td>\n",
       "      <td>NaN</td>\n",
       "      <td>NaN</td>\n",
       "      <td>NaN</td>\n",
       "      <td>0.0</td>\n",
       "      <td>0.0</td>\n",
       "      <td>NaN</td>\n",
       "      <td>NaN</td>\n",
       "      <td>NaN</td>\n",
       "      <td>NaN</td>\n",
       "    </tr>\n",
       "    <tr>\n",
       "      <th>4</th>\n",
       "      <td>1075358</td>\n",
       "      <td>1311748</td>\n",
       "      <td>3000</td>\n",
       "      <td>3000</td>\n",
       "      <td>3000.0</td>\n",
       "      <td>60 months</td>\n",
       "      <td>12.69%</td>\n",
       "      <td>67.79</td>\n",
       "      <td>B</td>\n",
       "      <td>B5</td>\n",
       "      <td>...</td>\n",
       "      <td>NaN</td>\n",
       "      <td>NaN</td>\n",
       "      <td>NaN</td>\n",
       "      <td>NaN</td>\n",
       "      <td>0.0</td>\n",
       "      <td>0.0</td>\n",
       "      <td>NaN</td>\n",
       "      <td>NaN</td>\n",
       "      <td>NaN</td>\n",
       "      <td>NaN</td>\n",
       "    </tr>\n",
       "  </tbody>\n",
       "</table>\n",
       "<p>5 rows × 111 columns</p>\n",
       "</div>"
      ],
      "text/plain": [
       "        id  member_id  loan_amnt  funded_amnt  funded_amnt_inv        term  \\\n",
       "0  1077501    1296599       5000         5000           4975.0   36 months   \n",
       "1  1077430    1314167       2500         2500           2500.0   60 months   \n",
       "2  1077175    1313524       2400         2400           2400.0   36 months   \n",
       "3  1076863    1277178      10000        10000          10000.0   36 months   \n",
       "4  1075358    1311748       3000         3000           3000.0   60 months   \n",
       "\n",
       "  int_rate  installment grade sub_grade  ... num_tl_90g_dpd_24m  \\\n",
       "0   10.65%       162.87     B        B2  ...                NaN   \n",
       "1   15.27%        59.83     C        C4  ...                NaN   \n",
       "2   15.96%        84.33     C        C5  ...                NaN   \n",
       "3   13.49%       339.31     C        C1  ...                NaN   \n",
       "4   12.69%        67.79     B        B5  ...                NaN   \n",
       "\n",
       "  num_tl_op_past_12m pct_tl_nvr_dlq  percent_bc_gt_75 pub_rec_bankruptcies  \\\n",
       "0                NaN            NaN               NaN                  0.0   \n",
       "1                NaN            NaN               NaN                  0.0   \n",
       "2                NaN            NaN               NaN                  0.0   \n",
       "3                NaN            NaN               NaN                  0.0   \n",
       "4                NaN            NaN               NaN                  0.0   \n",
       "\n",
       "  tax_liens tot_hi_cred_lim total_bal_ex_mort total_bc_limit  \\\n",
       "0       0.0             NaN               NaN            NaN   \n",
       "1       0.0             NaN               NaN            NaN   \n",
       "2       0.0             NaN               NaN            NaN   \n",
       "3       0.0             NaN               NaN            NaN   \n",
       "4       0.0             NaN               NaN            NaN   \n",
       "\n",
       "  total_il_high_credit_limit  \n",
       "0                        NaN  \n",
       "1                        NaN  \n",
       "2                        NaN  \n",
       "3                        NaN  \n",
       "4                        NaN  \n",
       "\n",
       "[5 rows x 111 columns]"
      ]
     },
     "execution_count": 206,
     "metadata": {},
     "output_type": "execute_result"
    }
   ],
   "source": [
    "lending_data = pd.read_csv(\"/Users/pavithrapishe/Downloads/loan.csv\")\n",
    "lending_data.head()"
   ]
  },
  {
   "cell_type": "code",
   "execution_count": 207,
   "id": "d6bf87aa",
   "metadata": {},
   "outputs": [
    {
     "data": {
      "text/plain": [
       "(39717, 111)"
      ]
     },
     "execution_count": 207,
     "metadata": {},
     "output_type": "execute_result"
    }
   ],
   "source": [
    "lending_data.shape"
   ]
  },
  {
   "cell_type": "code",
   "execution_count": 208,
   "id": "104c87d3",
   "metadata": {},
   "outputs": [],
   "source": [
    "categorical = ['term', 'grade','sub_grade','emp_length','home_ownership','verification_status',\n",
    "               'issue_d','loan_status','purpose','pub_rec', 'pub_rec_bankruptcies','delinq_2yrs']\n",
    "continous = ['loan_amnt','funded_amnt','funded_amnt_inv','inq_last_6mths',\n",
    "             'int_rate','installment','annual_inc','dti','earliest_cr_line',\n",
    "            'open_acc','revol_bal','revol_util','total_acc','out_prncp','out_prncp_inv',\n",
    "            'total_pymnt','total_pymnt_inv', 'total_rec_prncp','total_rec_int','total_rec_late_fee',\n",
    "            'recoveries','collection_recovery_fee','last_pymnt_d','last_pymnt_amnt','last_credit_pull_d']\n",
    "extra = ['id','member_id','zip_code','url','desc','title','emp_title','addr_state']"
   ]
  },
  {
   "cell_type": "markdown",
   "id": "6a4d9eac",
   "metadata": {},
   "source": [
    "Get the list of all columns with all Null values and drop them"
   ]
  },
  {
   "cell_type": "code",
   "execution_count": 209,
   "id": "f6b65419",
   "metadata": {},
   "outputs": [
    {
     "data": {
      "text/plain": [
       "(39717, 57)"
      ]
     },
     "execution_count": 209,
     "metadata": {},
     "output_type": "execute_result"
    }
   ],
   "source": [
    "lending_data = lending_data.dropna(axis = 1, how = 'all')\n",
    "lending_data.shape"
   ]
  },
  {
   "cell_type": "markdown",
   "id": "e9e416b7",
   "metadata": {},
   "source": [
    "Get the list of columns that have only 1 value in it and drop them since they dont contribute much to analysis"
   ]
  },
  {
   "cell_type": "code",
   "execution_count": 210,
   "id": "5f19084e",
   "metadata": {},
   "outputs": [
    {
     "data": {
      "text/plain": [
       "Index(['pymnt_plan', 'initial_list_status', 'collections_12_mths_ex_med',\n",
       "       'policy_code', 'application_type', 'acc_now_delinq',\n",
       "       'chargeoff_within_12_mths', 'delinq_amnt', 'tax_liens'],\n",
       "      dtype='object')"
      ]
     },
     "execution_count": 210,
     "metadata": {},
     "output_type": "execute_result"
    }
   ],
   "source": [
    "single_val_col = lending_data.columns[lending_data.nunique() == 1]\n",
    "single_val_col"
   ]
  },
  {
   "cell_type": "code",
   "execution_count": 211,
   "id": "9472326c",
   "metadata": {},
   "outputs": [
    {
     "data": {
      "text/plain": [
       "(39717, 48)"
      ]
     },
     "execution_count": 211,
     "metadata": {},
     "output_type": "execute_result"
    }
   ],
   "source": [
    "lending_data = lending_data.drop(single_val_col, axis = 1)\n",
    "lending_data.shape"
   ]
  },
  {
   "cell_type": "markdown",
   "id": "0f9f77f7",
   "metadata": {},
   "source": [
    "Get the Extra Columns that do not contribute much to analysis since the target here is to find the defaulter."
   ]
  },
  {
   "cell_type": "code",
   "execution_count": 212,
   "id": "2fbe24ed",
   "metadata": {},
   "outputs": [
    {
     "data": {
      "text/plain": [
       "(39717, 40)"
      ]
     },
     "execution_count": 212,
     "metadata": {},
     "output_type": "execute_result"
    }
   ],
   "source": [
    "lending_data = lending_data.drop(extra, axis= 1)\n",
    "lending_data.shape"
   ]
  },
  {
   "cell_type": "code",
   "execution_count": 213,
   "id": "1531751a",
   "metadata": {},
   "outputs": [
    {
     "data": {
      "text/plain": [
       "['loan_amnt',\n",
       " 'funded_amnt',\n",
       " 'funded_amnt_inv',\n",
       " 'term',\n",
       " 'int_rate',\n",
       " 'installment',\n",
       " 'grade',\n",
       " 'sub_grade',\n",
       " 'emp_length',\n",
       " 'home_ownership',\n",
       " 'annual_inc',\n",
       " 'verification_status',\n",
       " 'issue_d',\n",
       " 'loan_status',\n",
       " 'purpose',\n",
       " 'dti',\n",
       " 'delinq_2yrs',\n",
       " 'earliest_cr_line',\n",
       " 'inq_last_6mths',\n",
       " 'mths_since_last_delinq',\n",
       " 'mths_since_last_record',\n",
       " 'open_acc',\n",
       " 'pub_rec',\n",
       " 'revol_bal',\n",
       " 'revol_util',\n",
       " 'total_acc',\n",
       " 'out_prncp',\n",
       " 'out_prncp_inv',\n",
       " 'total_pymnt',\n",
       " 'total_pymnt_inv',\n",
       " 'total_rec_prncp',\n",
       " 'total_rec_int',\n",
       " 'total_rec_late_fee',\n",
       " 'recoveries',\n",
       " 'collection_recovery_fee',\n",
       " 'last_pymnt_d',\n",
       " 'last_pymnt_amnt',\n",
       " 'next_pymnt_d',\n",
       " 'last_credit_pull_d',\n",
       " 'pub_rec_bankruptcies']"
      ]
     },
     "execution_count": 213,
     "metadata": {},
     "output_type": "execute_result"
    }
   ],
   "source": [
    "lending_data.columns.to_list()"
   ]
  },
  {
   "cell_type": "code",
   "execution_count": 214,
   "id": "a6a72279",
   "metadata": {},
   "outputs": [
    {
     "data": {
      "text/plain": [
       "loan_amnt                      0\n",
       "funded_amnt                    0\n",
       "funded_amnt_inv                0\n",
       "term                           0\n",
       "int_rate                       0\n",
       "installment                    0\n",
       "grade                          0\n",
       "sub_grade                      0\n",
       "emp_length                  1075\n",
       "home_ownership                 0\n",
       "annual_inc                     0\n",
       "verification_status            0\n",
       "issue_d                        0\n",
       "loan_status                    0\n",
       "purpose                        0\n",
       "dti                            0\n",
       "delinq_2yrs                    0\n",
       "earliest_cr_line               0\n",
       "inq_last_6mths                 0\n",
       "mths_since_last_delinq     25682\n",
       "mths_since_last_record     36931\n",
       "open_acc                       0\n",
       "pub_rec                        0\n",
       "revol_bal                      0\n",
       "revol_util                    50\n",
       "total_acc                      0\n",
       "out_prncp                      0\n",
       "out_prncp_inv                  0\n",
       "total_pymnt                    0\n",
       "total_pymnt_inv                0\n",
       "total_rec_prncp                0\n",
       "total_rec_int                  0\n",
       "total_rec_late_fee             0\n",
       "recoveries                     0\n",
       "collection_recovery_fee        0\n",
       "last_pymnt_d                  71\n",
       "last_pymnt_amnt                0\n",
       "next_pymnt_d               38577\n",
       "last_credit_pull_d             2\n",
       "pub_rec_bankruptcies         697\n",
       "dtype: int64"
      ]
     },
     "execution_count": 214,
     "metadata": {},
     "output_type": "execute_result"
    }
   ],
   "source": [
    "lending_data.isna().sum()"
   ]
  },
  {
   "cell_type": "markdown",
   "id": "6bbbcc82",
   "metadata": {},
   "source": [
    "Dropping columns 'mths_since_last_delinq', 'mths_since_last_record', 'next_pymnt_d' since they have more than 90% NA data."
   ]
  },
  {
   "cell_type": "code",
   "execution_count": 215,
   "id": "9ae9e7f8",
   "metadata": {},
   "outputs": [
    {
     "data": {
      "text/plain": [
       "(39717, 37)"
      ]
     },
     "execution_count": 215,
     "metadata": {},
     "output_type": "execute_result"
    }
   ],
   "source": [
    "lending_data = lending_data.drop(['mths_since_last_delinq', 'mths_since_last_record', 'next_pymnt_d'], axis= 1)\n",
    "lending_data.shape"
   ]
  },
  {
   "cell_type": "markdown",
   "id": "63b65067",
   "metadata": {},
   "source": [
    "Remove all the rows that have loan status = \"Current\" since Applicant is in the process of paying the instalments, i.e. the tenure of the loan is not yet completed. These candidates are not labelled as 'defaulted'."
   ]
  },
  {
   "cell_type": "code",
   "execution_count": 216,
   "id": "42a2219a",
   "metadata": {},
   "outputs": [
    {
     "data": {
      "text/plain": [
       "Fully Paid     32950\n",
       "Charged Off     5627\n",
       "Name: loan_status, dtype: int64"
      ]
     },
     "execution_count": 216,
     "metadata": {},
     "output_type": "execute_result"
    }
   ],
   "source": [
    "lending_data = lending_data[~(lending_data['loan_status'] == 'Current')]\n",
    "lending_data['loan_status'].value_counts()"
   ]
  },
  {
   "cell_type": "markdown",
   "id": "9c1f94ae",
   "metadata": {},
   "source": [
    "### Handle missing values"
   ]
  },
  {
   "cell_type": "code",
   "execution_count": 217,
   "id": "61f85e15",
   "metadata": {},
   "outputs": [
    {
     "data": {
      "text/plain": [
       "loan_amnt                     0\n",
       "funded_amnt                   0\n",
       "funded_amnt_inv               0\n",
       "term                          0\n",
       "int_rate                      0\n",
       "installment                   0\n",
       "grade                         0\n",
       "sub_grade                     0\n",
       "emp_length                 1033\n",
       "home_ownership                0\n",
       "annual_inc                    0\n",
       "verification_status           0\n",
       "issue_d                       0\n",
       "loan_status                   0\n",
       "purpose                       0\n",
       "dti                           0\n",
       "delinq_2yrs                   0\n",
       "earliest_cr_line              0\n",
       "inq_last_6mths                0\n",
       "open_acc                      0\n",
       "pub_rec                       0\n",
       "revol_bal                     0\n",
       "revol_util                   50\n",
       "total_acc                     0\n",
       "out_prncp                     0\n",
       "out_prncp_inv                 0\n",
       "total_pymnt                   0\n",
       "total_pymnt_inv               0\n",
       "total_rec_prncp               0\n",
       "total_rec_int                 0\n",
       "total_rec_late_fee            0\n",
       "recoveries                    0\n",
       "collection_recovery_fee       0\n",
       "last_pymnt_d                 71\n",
       "last_pymnt_amnt               0\n",
       "last_credit_pull_d            2\n",
       "pub_rec_bankruptcies        697\n",
       "dtype: int64"
      ]
     },
     "execution_count": 217,
     "metadata": {},
     "output_type": "execute_result"
    }
   ],
   "source": [
    "lending_data.isna().sum()"
   ]
  },
  {
   "cell_type": "markdown",
   "id": "178e8a72",
   "metadata": {},
   "source": [
    "As per the command data above, there are 4 columns that has missing values 'emp_length','revol_util','last_pymnt_d','last_credit_pull_d' and 'pub_rec_bankruptcies'\n",
    "\n",
    "'revol_util','last_pymnt_d','last_credit_pull_d' - have relatively less null values. And its safe to delete these rows."
   ]
  },
  {
   "cell_type": "code",
   "execution_count": 218,
   "id": "010db4f9",
   "metadata": {},
   "outputs": [],
   "source": [
    "lending_data = lending_data.dropna(axis = 0, subset = ['revol_util','last_pymnt_d','last_credit_pull_d'])"
   ]
  },
  {
   "cell_type": "code",
   "execution_count": 219,
   "id": "100dbce5",
   "metadata": {},
   "outputs": [
    {
     "data": {
      "text/plain": [
       "loan_amnt                     0\n",
       "funded_amnt                   0\n",
       "funded_amnt_inv               0\n",
       "term                          0\n",
       "int_rate                      0\n",
       "installment                   0\n",
       "grade                         0\n",
       "sub_grade                     0\n",
       "emp_length                 1025\n",
       "home_ownership                0\n",
       "annual_inc                    0\n",
       "verification_status           0\n",
       "issue_d                       0\n",
       "loan_status                   0\n",
       "purpose                       0\n",
       "dti                           0\n",
       "delinq_2yrs                   0\n",
       "earliest_cr_line              0\n",
       "inq_last_6mths                0\n",
       "open_acc                      0\n",
       "pub_rec                       0\n",
       "revol_bal                     0\n",
       "revol_util                    0\n",
       "total_acc                     0\n",
       "out_prncp                     0\n",
       "out_prncp_inv                 0\n",
       "total_pymnt                   0\n",
       "total_pymnt_inv               0\n",
       "total_rec_prncp               0\n",
       "total_rec_int                 0\n",
       "total_rec_late_fee            0\n",
       "recoveries                    0\n",
       "collection_recovery_fee       0\n",
       "last_pymnt_d                  0\n",
       "last_pymnt_amnt               0\n",
       "last_credit_pull_d            0\n",
       "pub_rec_bankruptcies        696\n",
       "dtype: int64"
      ]
     },
     "execution_count": 219,
     "metadata": {},
     "output_type": "execute_result"
    }
   ],
   "source": [
    "lending_data.isna().sum()"
   ]
  },
  {
   "cell_type": "markdown",
   "id": "e77801b8",
   "metadata": {},
   "source": [
    "Checking the data present in 'emp_length' and 'pub_rec_bankruptcies'"
   ]
  },
  {
   "cell_type": "code",
   "execution_count": 220,
   "id": "dcd93cd0",
   "metadata": {},
   "outputs": [
    {
     "data": {
      "text/plain": [
       "10+ years    8478\n",
       "< 1 year     4488\n",
       "2 years      4280\n",
       "3 years      4001\n",
       "4 years      3328\n",
       "5 years      3180\n",
       "1 year       3154\n",
       "6 years      2164\n",
       "7 years      1707\n",
       "8 years      1430\n",
       "9 years      1223\n",
       "Name: emp_length, dtype: int64"
      ]
     },
     "execution_count": 220,
     "metadata": {},
     "output_type": "execute_result"
    }
   ],
   "source": [
    "lending_data['emp_length'].value_counts()"
   ]
  },
  {
   "cell_type": "code",
   "execution_count": 221,
   "id": "13d4cf69",
   "metadata": {},
   "outputs": [
    {
     "data": {
      "text/plain": [
       "0.0    36127\n",
       "1.0     1630\n",
       "2.0        5\n",
       "Name: pub_rec_bankruptcies, dtype: int64"
      ]
     },
     "execution_count": 221,
     "metadata": {},
     "output_type": "execute_result"
    }
   ],
   "source": [
    "lending_data['pub_rec_bankruptcies'].value_counts()"
   ]
  },
  {
   "cell_type": "markdown",
   "id": "24ce5f95",
   "metadata": {},
   "source": [
    "Imputing the Null values with mode values for 'emp_length' and 'pub_rec_bankruptcies' as they are all categorical."
   ]
  },
  {
   "cell_type": "code",
   "execution_count": 222,
   "id": "e355bd64",
   "metadata": {},
   "outputs": [],
   "source": [
    "lending_data['emp_length'] = lending_data['emp_length'].fillna(lending_data['emp_length'].mode()[0])\n",
    "lending_data['pub_rec_bankruptcies'] = lending_data['pub_rec_bankruptcies'].fillna(lending_data['pub_rec_bankruptcies'].mode()[0])"
   ]
  },
  {
   "cell_type": "markdown",
   "id": "c0d9a07e",
   "metadata": {},
   "source": [
    "### Converting data to proper form and format"
   ]
  },
  {
   "cell_type": "markdown",
   "id": "fea5b296",
   "metadata": {},
   "source": [
    "'emp_length' is observed to be an object since it contains '+' 'years' etc. Removing these values and considering only the numeric part for this column"
   ]
  },
  {
   "cell_type": "code",
   "execution_count": 223,
   "id": "63247fac",
   "metadata": {},
   "outputs": [],
   "source": [
    "lending_data['emp_length'] = (lending_data['emp_length'].str.extract('(\\d+)')).astype('int64')"
   ]
  },
  {
   "cell_type": "markdown",
   "id": "b6a54bd0",
   "metadata": {},
   "source": [
    "'term' is observed to be an object since it contains 'months'. Removing these values and considering only the numeric part for this column"
   ]
  },
  {
   "cell_type": "code",
   "execution_count": 224,
   "id": "1c563867",
   "metadata": {},
   "outputs": [],
   "source": [
    "lending_data['term'] = (lending_data['term'].str.extract('(\\d+)')).astype('int64')"
   ]
  },
  {
   "cell_type": "markdown",
   "id": "8c943d38",
   "metadata": {},
   "source": [
    "'int_rate' is observed to be an object since it contains '%'. Removing these values and considering only the numeric part for this column"
   ]
  },
  {
   "cell_type": "code",
   "execution_count": 225,
   "id": "982f862a",
   "metadata": {},
   "outputs": [],
   "source": [
    "lending_data['int_rate'] = (lending_data['int_rate'].str.extract('(\\d+)')).astype('float64')"
   ]
  },
  {
   "cell_type": "markdown",
   "id": "2f8cfbe4",
   "metadata": {},
   "source": [
    "'revol_util' is observed to be an object since it contains '%'. Removing these values and considering only the numeric part for this column"
   ]
  },
  {
   "cell_type": "code",
   "execution_count": 226,
   "id": "42bdeef3",
   "metadata": {},
   "outputs": [],
   "source": [
    "lending_data['revol_util'] = (lending_data['revol_util'].str.extract('(\\d+)')).astype('float64')"
   ]
  },
  {
   "cell_type": "code",
   "execution_count": 227,
   "id": "5235fbb8",
   "metadata": {},
   "outputs": [
    {
     "data": {
      "text/plain": [
       "(38458, 37)"
      ]
     },
     "execution_count": 227,
     "metadata": {},
     "output_type": "execute_result"
    }
   ],
   "source": [
    "lending_data.shape"
   ]
  },
  {
   "cell_type": "markdown",
   "id": "cfea1b83",
   "metadata": {},
   "source": [
    "## Univariate analysis"
   ]
  },
  {
   "cell_type": "code",
   "execution_count": 228,
   "id": "03759038",
   "metadata": {},
   "outputs": [
    {
     "data": {
      "text/html": [
       "<div>\n",
       "<style scoped>\n",
       "    .dataframe tbody tr th:only-of-type {\n",
       "        vertical-align: middle;\n",
       "    }\n",
       "\n",
       "    .dataframe tbody tr th {\n",
       "        vertical-align: top;\n",
       "    }\n",
       "\n",
       "    .dataframe thead th {\n",
       "        text-align: right;\n",
       "    }\n",
       "</style>\n",
       "<table border=\"1\" class=\"dataframe\">\n",
       "  <thead>\n",
       "    <tr style=\"text-align: right;\">\n",
       "      <th></th>\n",
       "      <th>count</th>\n",
       "      <th>mean</th>\n",
       "      <th>std</th>\n",
       "      <th>min</th>\n",
       "      <th>25%</th>\n",
       "      <th>50%</th>\n",
       "      <th>75%</th>\n",
       "      <th>max</th>\n",
       "    </tr>\n",
       "  </thead>\n",
       "  <tbody>\n",
       "    <tr>\n",
       "      <th>loan_amnt</th>\n",
       "      <td>38458.0</td>\n",
       "      <td>11060.022622</td>\n",
       "      <td>7346.814917</td>\n",
       "      <td>500.00</td>\n",
       "      <td>5375.00000</td>\n",
       "      <td>9700.000000</td>\n",
       "      <td>15000.000000</td>\n",
       "      <td>3.500000e+04</td>\n",
       "    </tr>\n",
       "    <tr>\n",
       "      <th>funded_amnt</th>\n",
       "      <td>38458.0</td>\n",
       "      <td>10796.242004</td>\n",
       "      <td>7088.275073</td>\n",
       "      <td>500.00</td>\n",
       "      <td>5200.00000</td>\n",
       "      <td>9600.000000</td>\n",
       "      <td>15000.000000</td>\n",
       "      <td>3.500000e+04</td>\n",
       "    </tr>\n",
       "    <tr>\n",
       "      <th>funded_amnt_inv</th>\n",
       "      <td>38458.0</td>\n",
       "      <td>10236.629675</td>\n",
       "      <td>7022.449721</td>\n",
       "      <td>0.00</td>\n",
       "      <td>5000.00000</td>\n",
       "      <td>8756.517556</td>\n",
       "      <td>14000.000000</td>\n",
       "      <td>3.500000e+04</td>\n",
       "    </tr>\n",
       "    <tr>\n",
       "      <th>inq_last_6mths</th>\n",
       "      <td>38458.0</td>\n",
       "      <td>0.871080</td>\n",
       "      <td>1.071353</td>\n",
       "      <td>0.00</td>\n",
       "      <td>0.00000</td>\n",
       "      <td>1.000000</td>\n",
       "      <td>1.000000</td>\n",
       "      <td>8.000000e+00</td>\n",
       "    </tr>\n",
       "    <tr>\n",
       "      <th>int_rate</th>\n",
       "      <td>38458.0</td>\n",
       "      <td>11.349316</td>\n",
       "      <td>3.724052</td>\n",
       "      <td>5.00</td>\n",
       "      <td>8.00000</td>\n",
       "      <td>11.000000</td>\n",
       "      <td>14.000000</td>\n",
       "      <td>2.400000e+01</td>\n",
       "    </tr>\n",
       "    <tr>\n",
       "      <th>installment</th>\n",
       "      <td>38458.0</td>\n",
       "      <td>322.796147</td>\n",
       "      <td>208.591916</td>\n",
       "      <td>15.69</td>\n",
       "      <td>165.82500</td>\n",
       "      <td>278.240000</td>\n",
       "      <td>426.100000</td>\n",
       "      <td>1.305190e+03</td>\n",
       "    </tr>\n",
       "    <tr>\n",
       "      <th>annual_inc</th>\n",
       "      <td>38458.0</td>\n",
       "      <td>68845.502462</td>\n",
       "      <td>64255.799973</td>\n",
       "      <td>4000.00</td>\n",
       "      <td>40000.00000</td>\n",
       "      <td>59000.000000</td>\n",
       "      <td>82000.000000</td>\n",
       "      <td>6.000000e+06</td>\n",
       "    </tr>\n",
       "    <tr>\n",
       "      <th>dti</th>\n",
       "      <td>38458.0</td>\n",
       "      <td>13.278672</td>\n",
       "      <td>6.670271</td>\n",
       "      <td>0.00</td>\n",
       "      <td>8.14000</td>\n",
       "      <td>13.370000</td>\n",
       "      <td>18.560000</td>\n",
       "      <td>2.999000e+01</td>\n",
       "    </tr>\n",
       "    <tr>\n",
       "      <th>open_acc</th>\n",
       "      <td>38458.0</td>\n",
       "      <td>9.284960</td>\n",
       "      <td>4.400480</td>\n",
       "      <td>2.00</td>\n",
       "      <td>6.00000</td>\n",
       "      <td>9.000000</td>\n",
       "      <td>12.000000</td>\n",
       "      <td>4.400000e+01</td>\n",
       "    </tr>\n",
       "    <tr>\n",
       "      <th>revol_bal</th>\n",
       "      <td>38458.0</td>\n",
       "      <td>13316.760128</td>\n",
       "      <td>15876.681164</td>\n",
       "      <td>0.00</td>\n",
       "      <td>3675.00000</td>\n",
       "      <td>8784.500000</td>\n",
       "      <td>16943.000000</td>\n",
       "      <td>1.495880e+05</td>\n",
       "    </tr>\n",
       "    <tr>\n",
       "      <th>revol_util</th>\n",
       "      <td>38458.0</td>\n",
       "      <td>48.263014</td>\n",
       "      <td>28.343411</td>\n",
       "      <td>0.00</td>\n",
       "      <td>25.00000</td>\n",
       "      <td>49.000000</td>\n",
       "      <td>72.000000</td>\n",
       "      <td>9.900000e+01</td>\n",
       "    </tr>\n",
       "    <tr>\n",
       "      <th>total_acc</th>\n",
       "      <td>38458.0</td>\n",
       "      <td>22.078423</td>\n",
       "      <td>11.421564</td>\n",
       "      <td>2.00</td>\n",
       "      <td>13.00000</td>\n",
       "      <td>20.000000</td>\n",
       "      <td>29.000000</td>\n",
       "      <td>9.000000e+01</td>\n",
       "    </tr>\n",
       "    <tr>\n",
       "      <th>out_prncp</th>\n",
       "      <td>38458.0</td>\n",
       "      <td>0.000000</td>\n",
       "      <td>0.000000</td>\n",
       "      <td>0.00</td>\n",
       "      <td>0.00000</td>\n",
       "      <td>0.000000</td>\n",
       "      <td>0.000000</td>\n",
       "      <td>0.000000e+00</td>\n",
       "    </tr>\n",
       "    <tr>\n",
       "      <th>out_prncp_inv</th>\n",
       "      <td>38458.0</td>\n",
       "      <td>0.000000</td>\n",
       "      <td>0.000000</td>\n",
       "      <td>0.00</td>\n",
       "      <td>0.00000</td>\n",
       "      <td>0.000000</td>\n",
       "      <td>0.000000</td>\n",
       "      <td>0.000000e+00</td>\n",
       "    </tr>\n",
       "    <tr>\n",
       "      <th>total_pymnt</th>\n",
       "      <td>38458.0</td>\n",
       "      <td>11896.720500</td>\n",
       "      <td>8805.236667</td>\n",
       "      <td>33.73</td>\n",
       "      <td>5537.34764</td>\n",
       "      <td>9705.858095</td>\n",
       "      <td>16158.152842</td>\n",
       "      <td>5.856368e+04</td>\n",
       "    </tr>\n",
       "    <tr>\n",
       "      <th>total_pymnt_inv</th>\n",
       "      <td>38458.0</td>\n",
       "      <td>11300.179808</td>\n",
       "      <td>8697.099856</td>\n",
       "      <td>0.00</td>\n",
       "      <td>5045.17250</td>\n",
       "      <td>9095.675000</td>\n",
       "      <td>15366.417500</td>\n",
       "      <td>5.856368e+04</td>\n",
       "    </tr>\n",
       "    <tr>\n",
       "      <th>total_rec_prncp</th>\n",
       "      <td>38458.0</td>\n",
       "      <td>9673.642209</td>\n",
       "      <td>7003.855733</td>\n",
       "      <td>0.00</td>\n",
       "      <td>4500.00000</td>\n",
       "      <td>8000.000000</td>\n",
       "      <td>13200.000000</td>\n",
       "      <td>3.500002e+04</td>\n",
       "    </tr>\n",
       "    <tr>\n",
       "      <th>total_rec_int</th>\n",
       "      <td>38458.0</td>\n",
       "      <td>2124.606031</td>\n",
       "      <td>2390.916955</td>\n",
       "      <td>6.22</td>\n",
       "      <td>647.14500</td>\n",
       "      <td>1304.155000</td>\n",
       "      <td>2676.350000</td>\n",
       "      <td>2.356368e+04</td>\n",
       "    </tr>\n",
       "    <tr>\n",
       "      <th>total_rec_late_fee</th>\n",
       "      <td>38458.0</td>\n",
       "      <td>1.370530</td>\n",
       "      <td>7.324839</td>\n",
       "      <td>0.00</td>\n",
       "      <td>0.00000</td>\n",
       "      <td>0.000000</td>\n",
       "      <td>0.000000</td>\n",
       "      <td>1.802000e+02</td>\n",
       "    </tr>\n",
       "    <tr>\n",
       "      <th>recoveries</th>\n",
       "      <td>38458.0</td>\n",
       "      <td>97.101812</td>\n",
       "      <td>695.777628</td>\n",
       "      <td>0.00</td>\n",
       "      <td>0.00000</td>\n",
       "      <td>0.000000</td>\n",
       "      <td>0.000000</td>\n",
       "      <td>2.962335e+04</td>\n",
       "    </tr>\n",
       "    <tr>\n",
       "      <th>collection_recovery_fee</th>\n",
       "      <td>38458.0</td>\n",
       "      <td>12.657469</td>\n",
       "      <td>150.571526</td>\n",
       "      <td>0.00</td>\n",
       "      <td>0.00000</td>\n",
       "      <td>0.000000</td>\n",
       "      <td>0.000000</td>\n",
       "      <td>7.002190e+03</td>\n",
       "    </tr>\n",
       "    <tr>\n",
       "      <th>last_pymnt_amnt</th>\n",
       "      <td>38458.0</td>\n",
       "      <td>2754.124952</td>\n",
       "      <td>4499.268214</td>\n",
       "      <td>0.00</td>\n",
       "      <td>218.94000</td>\n",
       "      <td>572.055000</td>\n",
       "      <td>3460.537500</td>\n",
       "      <td>3.611520e+04</td>\n",
       "    </tr>\n",
       "  </tbody>\n",
       "</table>\n",
       "</div>"
      ],
      "text/plain": [
       "                           count          mean           std      min  \\\n",
       "loan_amnt                38458.0  11060.022622   7346.814917   500.00   \n",
       "funded_amnt              38458.0  10796.242004   7088.275073   500.00   \n",
       "funded_amnt_inv          38458.0  10236.629675   7022.449721     0.00   \n",
       "inq_last_6mths           38458.0      0.871080      1.071353     0.00   \n",
       "int_rate                 38458.0     11.349316      3.724052     5.00   \n",
       "installment              38458.0    322.796147    208.591916    15.69   \n",
       "annual_inc               38458.0  68845.502462  64255.799973  4000.00   \n",
       "dti                      38458.0     13.278672      6.670271     0.00   \n",
       "open_acc                 38458.0      9.284960      4.400480     2.00   \n",
       "revol_bal                38458.0  13316.760128  15876.681164     0.00   \n",
       "revol_util               38458.0     48.263014     28.343411     0.00   \n",
       "total_acc                38458.0     22.078423     11.421564     2.00   \n",
       "out_prncp                38458.0      0.000000      0.000000     0.00   \n",
       "out_prncp_inv            38458.0      0.000000      0.000000     0.00   \n",
       "total_pymnt              38458.0  11896.720500   8805.236667    33.73   \n",
       "total_pymnt_inv          38458.0  11300.179808   8697.099856     0.00   \n",
       "total_rec_prncp          38458.0   9673.642209   7003.855733     0.00   \n",
       "total_rec_int            38458.0   2124.606031   2390.916955     6.22   \n",
       "total_rec_late_fee       38458.0      1.370530      7.324839     0.00   \n",
       "recoveries               38458.0     97.101812    695.777628     0.00   \n",
       "collection_recovery_fee  38458.0     12.657469    150.571526     0.00   \n",
       "last_pymnt_amnt          38458.0   2754.124952   4499.268214     0.00   \n",
       "\n",
       "                                 25%           50%           75%           max  \n",
       "loan_amnt                 5375.00000   9700.000000  15000.000000  3.500000e+04  \n",
       "funded_amnt               5200.00000   9600.000000  15000.000000  3.500000e+04  \n",
       "funded_amnt_inv           5000.00000   8756.517556  14000.000000  3.500000e+04  \n",
       "inq_last_6mths               0.00000      1.000000      1.000000  8.000000e+00  \n",
       "int_rate                     8.00000     11.000000     14.000000  2.400000e+01  \n",
       "installment                165.82500    278.240000    426.100000  1.305190e+03  \n",
       "annual_inc               40000.00000  59000.000000  82000.000000  6.000000e+06  \n",
       "dti                          8.14000     13.370000     18.560000  2.999000e+01  \n",
       "open_acc                     6.00000      9.000000     12.000000  4.400000e+01  \n",
       "revol_bal                 3675.00000   8784.500000  16943.000000  1.495880e+05  \n",
       "revol_util                  25.00000     49.000000     72.000000  9.900000e+01  \n",
       "total_acc                   13.00000     20.000000     29.000000  9.000000e+01  \n",
       "out_prncp                    0.00000      0.000000      0.000000  0.000000e+00  \n",
       "out_prncp_inv                0.00000      0.000000      0.000000  0.000000e+00  \n",
       "total_pymnt               5537.34764   9705.858095  16158.152842  5.856368e+04  \n",
       "total_pymnt_inv           5045.17250   9095.675000  15366.417500  5.856368e+04  \n",
       "total_rec_prncp           4500.00000   8000.000000  13200.000000  3.500002e+04  \n",
       "total_rec_int              647.14500   1304.155000   2676.350000  2.356368e+04  \n",
       "total_rec_late_fee           0.00000      0.000000      0.000000  1.802000e+02  \n",
       "recoveries                   0.00000      0.000000      0.000000  2.962335e+04  \n",
       "collection_recovery_fee      0.00000      0.000000      0.000000  7.002190e+03  \n",
       "last_pymnt_amnt            218.94000    572.055000   3460.537500  3.611520e+04  "
      ]
     },
     "execution_count": 228,
     "metadata": {},
     "output_type": "execute_result"
    }
   ],
   "source": [
    "lending_data[continous].describe().T"
   ]
  },
  {
   "cell_type": "markdown",
   "id": "d62816cc",
   "metadata": {},
   "source": [
    "### Visualizing continous data and checking for any outliers"
   ]
  },
  {
   "cell_type": "markdown",
   "id": "9db3f1ad",
   "metadata": {},
   "source": [
    "filtering out numeric values from continous"
   ]
  },
  {
   "cell_type": "code",
   "execution_count": 229,
   "id": "6332c1b6",
   "metadata": {},
   "outputs": [],
   "source": [
    "continous_numeric = ['loan_amnt','funded_amnt','funded_amnt_inv','inq_last_6mths',\n",
    "             'int_rate','installment','annual_inc','dti',\n",
    "            'open_acc','revol_bal','revol_util','total_acc','out_prncp','out_prncp_inv',\n",
    "            'total_pymnt','total_pymnt_inv', 'total_rec_prncp','total_rec_int','total_rec_late_fee',\n",
    "            'recoveries','collection_recovery_fee','last_pymnt_amnt']"
   ]
  },
  {
   "cell_type": "code",
   "execution_count": 230,
   "id": "f0974bb4",
   "metadata": {},
   "outputs": [
    {
     "ename": "ValueError",
     "evalue": "The number of FixedLocator locations (7), usually from a call to set_ticks, does not match the number of labels (1).",
     "output_type": "error",
     "traceback": [
      "\u001b[0;31m---------------------------------------------------------------------------\u001b[0m",
      "\u001b[0;31mValueError\u001b[0m                                Traceback (most recent call last)",
      "Cell \u001b[0;32mIn[230], line 2\u001b[0m\n\u001b[1;32m      1\u001b[0m \u001b[38;5;28;01mfor\u001b[39;00m i \u001b[38;5;129;01min\u001b[39;00m continous_numeric:\n\u001b[0;32m----> 2\u001b[0m     \u001b[43mlending_data\u001b[49m\u001b[43m[\u001b[49m\u001b[43mi\u001b[49m\u001b[43m]\u001b[49m\u001b[38;5;241;43m.\u001b[39;49m\u001b[43mplot\u001b[49m\u001b[43m(\u001b[49m\u001b[43mkind\u001b[49m\u001b[38;5;241;43m=\u001b[39;49m\u001b[38;5;124;43m'\u001b[39;49m\u001b[38;5;124;43mbox\u001b[39;49m\u001b[38;5;124;43m'\u001b[39;49m\u001b[43m)\u001b[49m\n\u001b[1;32m      3\u001b[0m     plt\u001b[38;5;241m.\u001b[39mshow()\n",
      "File \u001b[0;32m~/anaconda3/lib/python3.10/site-packages/pandas/plotting/_core.py:1000\u001b[0m, in \u001b[0;36mPlotAccessor.__call__\u001b[0;34m(self, *args, **kwargs)\u001b[0m\n\u001b[1;32m    997\u001b[0m             label_name \u001b[38;5;241m=\u001b[39m label_kw \u001b[38;5;129;01mor\u001b[39;00m data\u001b[38;5;241m.\u001b[39mcolumns\n\u001b[1;32m    998\u001b[0m             data\u001b[38;5;241m.\u001b[39mcolumns \u001b[38;5;241m=\u001b[39m label_name\n\u001b[0;32m-> 1000\u001b[0m \u001b[38;5;28;01mreturn\u001b[39;00m \u001b[43mplot_backend\u001b[49m\u001b[38;5;241;43m.\u001b[39;49m\u001b[43mplot\u001b[49m\u001b[43m(\u001b[49m\u001b[43mdata\u001b[49m\u001b[43m,\u001b[49m\u001b[43m \u001b[49m\u001b[43mkind\u001b[49m\u001b[38;5;241;43m=\u001b[39;49m\u001b[43mkind\u001b[49m\u001b[43m,\u001b[49m\u001b[43m \u001b[49m\u001b[38;5;241;43m*\u001b[39;49m\u001b[38;5;241;43m*\u001b[39;49m\u001b[43mkwargs\u001b[49m\u001b[43m)\u001b[49m\n",
      "File \u001b[0;32m~/anaconda3/lib/python3.10/site-packages/pandas/plotting/_matplotlib/__init__.py:71\u001b[0m, in \u001b[0;36mplot\u001b[0;34m(data, kind, **kwargs)\u001b[0m\n\u001b[1;32m     69\u001b[0m         kwargs[\u001b[38;5;124m\"\u001b[39m\u001b[38;5;124max\u001b[39m\u001b[38;5;124m\"\u001b[39m] \u001b[38;5;241m=\u001b[39m \u001b[38;5;28mgetattr\u001b[39m(ax, \u001b[38;5;124m\"\u001b[39m\u001b[38;5;124mleft_ax\u001b[39m\u001b[38;5;124m\"\u001b[39m, ax)\n\u001b[1;32m     70\u001b[0m plot_obj \u001b[38;5;241m=\u001b[39m PLOT_CLASSES[kind](data, \u001b[38;5;241m*\u001b[39m\u001b[38;5;241m*\u001b[39mkwargs)\n\u001b[0;32m---> 71\u001b[0m \u001b[43mplot_obj\u001b[49m\u001b[38;5;241;43m.\u001b[39;49m\u001b[43mgenerate\u001b[49m\u001b[43m(\u001b[49m\u001b[43m)\u001b[49m\n\u001b[1;32m     72\u001b[0m plot_obj\u001b[38;5;241m.\u001b[39mdraw()\n\u001b[1;32m     73\u001b[0m \u001b[38;5;28;01mreturn\u001b[39;00m plot_obj\u001b[38;5;241m.\u001b[39mresult\n",
      "File \u001b[0;32m~/anaconda3/lib/python3.10/site-packages/pandas/plotting/_matplotlib/core.py:452\u001b[0m, in \u001b[0;36mMPLPlot.generate\u001b[0;34m(self)\u001b[0m\n\u001b[1;32m    450\u001b[0m \u001b[38;5;28mself\u001b[39m\u001b[38;5;241m.\u001b[39m_compute_plot_data()\n\u001b[1;32m    451\u001b[0m \u001b[38;5;28mself\u001b[39m\u001b[38;5;241m.\u001b[39m_setup_subplots()\n\u001b[0;32m--> 452\u001b[0m \u001b[38;5;28;43mself\u001b[39;49m\u001b[38;5;241;43m.\u001b[39;49m\u001b[43m_make_plot\u001b[49m\u001b[43m(\u001b[49m\u001b[43m)\u001b[49m\n\u001b[1;32m    453\u001b[0m \u001b[38;5;28mself\u001b[39m\u001b[38;5;241m.\u001b[39m_add_table()\n\u001b[1;32m    454\u001b[0m \u001b[38;5;28mself\u001b[39m\u001b[38;5;241m.\u001b[39m_make_legend()\n",
      "File \u001b[0;32m~/anaconda3/lib/python3.10/site-packages/pandas/plotting/_matplotlib/boxplot.py:198\u001b[0m, in \u001b[0;36mBoxPlot._make_plot\u001b[0;34m(self)\u001b[0m\n\u001b[1;32m    196\u001b[0m \u001b[38;5;28;01mif\u001b[39;00m \u001b[38;5;129;01mnot\u001b[39;00m \u001b[38;5;28mself\u001b[39m\u001b[38;5;241m.\u001b[39muse_index:\n\u001b[1;32m    197\u001b[0m     labels \u001b[38;5;241m=\u001b[39m [pprint_thing(key) \u001b[38;5;28;01mfor\u001b[39;00m key \u001b[38;5;129;01min\u001b[39;00m \u001b[38;5;28mrange\u001b[39m(\u001b[38;5;28mlen\u001b[39m(labels))]\n\u001b[0;32m--> 198\u001b[0m \u001b[38;5;28;43mself\u001b[39;49m\u001b[38;5;241;43m.\u001b[39;49m\u001b[43m_set_ticklabels\u001b[49m\u001b[43m(\u001b[49m\u001b[43max\u001b[49m\u001b[43m,\u001b[49m\u001b[43m \u001b[49m\u001b[43mlabels\u001b[49m\u001b[43m)\u001b[49m\n",
      "File \u001b[0;32m~/anaconda3/lib/python3.10/site-packages/pandas/plotting/_matplotlib/boxplot.py:202\u001b[0m, in \u001b[0;36mBoxPlot._set_ticklabels\u001b[0;34m(self, ax, labels)\u001b[0m\n\u001b[1;32m    200\u001b[0m \u001b[38;5;28;01mdef\u001b[39;00m \u001b[38;5;21m_set_ticklabels\u001b[39m(\u001b[38;5;28mself\u001b[39m, ax: Axes, labels):\n\u001b[1;32m    201\u001b[0m     \u001b[38;5;28;01mif\u001b[39;00m \u001b[38;5;28mself\u001b[39m\u001b[38;5;241m.\u001b[39morientation \u001b[38;5;241m==\u001b[39m \u001b[38;5;124m\"\u001b[39m\u001b[38;5;124mvertical\u001b[39m\u001b[38;5;124m\"\u001b[39m:\n\u001b[0;32m--> 202\u001b[0m         \u001b[43max\u001b[49m\u001b[38;5;241;43m.\u001b[39;49m\u001b[43mset_xticklabels\u001b[49m\u001b[43m(\u001b[49m\u001b[43mlabels\u001b[49m\u001b[43m)\u001b[49m\n\u001b[1;32m    203\u001b[0m     \u001b[38;5;28;01melse\u001b[39;00m:\n\u001b[1;32m    204\u001b[0m         ax\u001b[38;5;241m.\u001b[39mset_yticklabels(labels)\n",
      "File \u001b[0;32m~/anaconda3/lib/python3.10/site-packages/matplotlib/axes/_base.py:74\u001b[0m, in \u001b[0;36m_axis_method_wrapper.__set_name__.<locals>.wrapper\u001b[0;34m(self, *args, **kwargs)\u001b[0m\n\u001b[1;32m     73\u001b[0m \u001b[38;5;28;01mdef\u001b[39;00m \u001b[38;5;21mwrapper\u001b[39m(\u001b[38;5;28mself\u001b[39m, \u001b[38;5;241m*\u001b[39margs, \u001b[38;5;241m*\u001b[39m\u001b[38;5;241m*\u001b[39mkwargs):\n\u001b[0;32m---> 74\u001b[0m     \u001b[38;5;28;01mreturn\u001b[39;00m \u001b[43mget_method\u001b[49m\u001b[43m(\u001b[49m\u001b[38;5;28;43mself\u001b[39;49m\u001b[43m)\u001b[49m\u001b[43m(\u001b[49m\u001b[38;5;241;43m*\u001b[39;49m\u001b[43margs\u001b[49m\u001b[43m,\u001b[49m\u001b[43m \u001b[49m\u001b[38;5;241;43m*\u001b[39;49m\u001b[38;5;241;43m*\u001b[39;49m\u001b[43mkwargs\u001b[49m\u001b[43m)\u001b[49m\n",
      "File \u001b[0;32m~/anaconda3/lib/python3.10/site-packages/matplotlib/_api/deprecation.py:297\u001b[0m, in \u001b[0;36mrename_parameter.<locals>.wrapper\u001b[0;34m(*args, **kwargs)\u001b[0m\n\u001b[1;32m    292\u001b[0m     warn_deprecated(\n\u001b[1;32m    293\u001b[0m         since, message\u001b[38;5;241m=\u001b[39m\u001b[38;5;124mf\u001b[39m\u001b[38;5;124m\"\u001b[39m\u001b[38;5;124mThe \u001b[39m\u001b[38;5;132;01m{\u001b[39;00mold\u001b[38;5;132;01m!r}\u001b[39;00m\u001b[38;5;124m parameter of \u001b[39m\u001b[38;5;132;01m{\u001b[39;00mfunc\u001b[38;5;241m.\u001b[39m\u001b[38;5;18m__name__\u001b[39m\u001b[38;5;132;01m}\u001b[39;00m\u001b[38;5;124m() \u001b[39m\u001b[38;5;124m\"\u001b[39m\n\u001b[1;32m    294\u001b[0m         \u001b[38;5;124mf\u001b[39m\u001b[38;5;124m\"\u001b[39m\u001b[38;5;124mhas been renamed \u001b[39m\u001b[38;5;132;01m{\u001b[39;00mnew\u001b[38;5;132;01m!r}\u001b[39;00m\u001b[38;5;124m since Matplotlib \u001b[39m\u001b[38;5;132;01m{\u001b[39;00msince\u001b[38;5;132;01m}\u001b[39;00m\u001b[38;5;124m; support \u001b[39m\u001b[38;5;124m\"\u001b[39m\n\u001b[1;32m    295\u001b[0m         \u001b[38;5;124mf\u001b[39m\u001b[38;5;124m\"\u001b[39m\u001b[38;5;124mfor the old name will be dropped %(removal)s.\u001b[39m\u001b[38;5;124m\"\u001b[39m)\n\u001b[1;32m    296\u001b[0m     kwargs[new] \u001b[38;5;241m=\u001b[39m kwargs\u001b[38;5;241m.\u001b[39mpop(old)\n\u001b[0;32m--> 297\u001b[0m \u001b[38;5;28;01mreturn\u001b[39;00m \u001b[43mfunc\u001b[49m\u001b[43m(\u001b[49m\u001b[38;5;241;43m*\u001b[39;49m\u001b[43margs\u001b[49m\u001b[43m,\u001b[49m\u001b[43m \u001b[49m\u001b[38;5;241;43m*\u001b[39;49m\u001b[38;5;241;43m*\u001b[39;49m\u001b[43mkwargs\u001b[49m\u001b[43m)\u001b[49m\n",
      "File \u001b[0;32m~/anaconda3/lib/python3.10/site-packages/matplotlib/axis.py:1973\u001b[0m, in \u001b[0;36mAxis.set_ticklabels\u001b[0;34m(self, labels, minor, fontdict, **kwargs)\u001b[0m\n\u001b[1;32m   1969\u001b[0m \u001b[38;5;28;01mif\u001b[39;00m \u001b[38;5;28misinstance\u001b[39m(locator, mticker\u001b[38;5;241m.\u001b[39mFixedLocator):\n\u001b[1;32m   1970\u001b[0m     \u001b[38;5;66;03m# Passing [] as a list of labels is often used as a way to\u001b[39;00m\n\u001b[1;32m   1971\u001b[0m     \u001b[38;5;66;03m# remove all tick labels, so only error for > 0 labels\u001b[39;00m\n\u001b[1;32m   1972\u001b[0m     \u001b[38;5;28;01mif\u001b[39;00m \u001b[38;5;28mlen\u001b[39m(locator\u001b[38;5;241m.\u001b[39mlocs) \u001b[38;5;241m!=\u001b[39m \u001b[38;5;28mlen\u001b[39m(labels) \u001b[38;5;129;01mand\u001b[39;00m \u001b[38;5;28mlen\u001b[39m(labels) \u001b[38;5;241m!=\u001b[39m \u001b[38;5;241m0\u001b[39m:\n\u001b[0;32m-> 1973\u001b[0m         \u001b[38;5;28;01mraise\u001b[39;00m \u001b[38;5;167;01mValueError\u001b[39;00m(\n\u001b[1;32m   1974\u001b[0m             \u001b[38;5;124m\"\u001b[39m\u001b[38;5;124mThe number of FixedLocator locations\u001b[39m\u001b[38;5;124m\"\u001b[39m\n\u001b[1;32m   1975\u001b[0m             \u001b[38;5;124mf\u001b[39m\u001b[38;5;124m\"\u001b[39m\u001b[38;5;124m (\u001b[39m\u001b[38;5;132;01m{\u001b[39;00m\u001b[38;5;28mlen\u001b[39m(locator\u001b[38;5;241m.\u001b[39mlocs)\u001b[38;5;132;01m}\u001b[39;00m\u001b[38;5;124m), usually from a call to\u001b[39m\u001b[38;5;124m\"\u001b[39m\n\u001b[1;32m   1976\u001b[0m             \u001b[38;5;124m\"\u001b[39m\u001b[38;5;124m set_ticks, does not match\u001b[39m\u001b[38;5;124m\"\u001b[39m\n\u001b[1;32m   1977\u001b[0m             \u001b[38;5;124mf\u001b[39m\u001b[38;5;124m\"\u001b[39m\u001b[38;5;124m the number of labels (\u001b[39m\u001b[38;5;132;01m{\u001b[39;00m\u001b[38;5;28mlen\u001b[39m(labels)\u001b[38;5;132;01m}\u001b[39;00m\u001b[38;5;124m).\u001b[39m\u001b[38;5;124m\"\u001b[39m)\n\u001b[1;32m   1978\u001b[0m     tickd \u001b[38;5;241m=\u001b[39m {loc: lab \u001b[38;5;28;01mfor\u001b[39;00m loc, lab \u001b[38;5;129;01min\u001b[39;00m \u001b[38;5;28mzip\u001b[39m(locator\u001b[38;5;241m.\u001b[39mlocs, labels)}\n\u001b[1;32m   1979\u001b[0m     func \u001b[38;5;241m=\u001b[39m functools\u001b[38;5;241m.\u001b[39mpartial(\u001b[38;5;28mself\u001b[39m\u001b[38;5;241m.\u001b[39m_format_with_dict, tickd)\n",
      "\u001b[0;31mValueError\u001b[0m: The number of FixedLocator locations (7), usually from a call to set_ticks, does not match the number of labels (1)."
     ]
    }
   ],
   "source": [
    "for i in continous_numeric:\n",
    "    lending_data[i].plot(kind='box')\n",
    "    plt.show()"
   ]
  },
  {
   "cell_type": "markdown",
   "id": "6f1c79b4",
   "metadata": {},
   "source": [
    "The plots above clearly shows outliers in a lot of columns. Extreme outlier is seen in column 'annual_inc' Handling them using the standard deviation method."
   ]
  },
  {
   "cell_type": "code",
   "execution_count": 232,
   "id": "e30f135a",
   "metadata": {},
   "outputs": [],
   "source": [
    "# lending_data['annual_inc'].describe().apply(\"{0:.3f}\".format)\n",
    "data_std = round((lending_data['annual_inc'].std()), 3)\n",
    "data_mean = round((lending_data['annual_inc'].mean()), 3)"
   ]
  },
  {
   "cell_type": "code",
   "execution_count": 233,
   "id": "010f3910",
   "metadata": {},
   "outputs": [],
   "source": [
    "# identify outliers\n",
    "cut_off = data_std * 3\n",
    "lower, upper = data_mean - cut_off, data_mean + cut_off\n",
    "# remove outliers\n",
    "loan_data = lending_data.loc[((lending_data['annual_inc'] >= lower) & (lending_data['annual_inc'] <= upper))]"
   ]
  },
  {
   "cell_type": "markdown",
   "id": "7ccdf8bd",
   "metadata": {},
   "source": [
    "### 'lending_data' become 'loan_data' after removing outliers"
   ]
  },
  {
   "cell_type": "code",
   "execution_count": 234,
   "id": "8876756b",
   "metadata": {},
   "outputs": [
    {
     "data": {
      "text/plain": [
       "(38180, 37)"
      ]
     },
     "execution_count": 234,
     "metadata": {},
     "output_type": "execute_result"
    }
   ],
   "source": [
    "loan_data.shape"
   ]
  },
  {
   "cell_type": "code",
   "execution_count": 235,
   "id": "c696ec4e",
   "metadata": {},
   "outputs": [
    {
     "ename": "ValueError",
     "evalue": "The number of FixedLocator locations (8), usually from a call to set_ticks, does not match the number of labels (1).",
     "output_type": "error",
     "traceback": [
      "\u001b[0;31m---------------------------------------------------------------------------\u001b[0m",
      "\u001b[0;31mValueError\u001b[0m                                Traceback (most recent call last)",
      "Cell \u001b[0;32mIn[235], line 2\u001b[0m\n\u001b[1;32m      1\u001b[0m \u001b[38;5;28;01mfor\u001b[39;00m i \u001b[38;5;129;01min\u001b[39;00m continous_numeric:\n\u001b[0;32m----> 2\u001b[0m     \u001b[43mloan_data\u001b[49m\u001b[43m[\u001b[49m\u001b[43mi\u001b[49m\u001b[43m]\u001b[49m\u001b[38;5;241;43m.\u001b[39;49m\u001b[43mplot\u001b[49m\u001b[43m(\u001b[49m\u001b[43mkind\u001b[49m\u001b[38;5;241;43m=\u001b[39;49m\u001b[38;5;124;43m'\u001b[39;49m\u001b[38;5;124;43mbox\u001b[39;49m\u001b[38;5;124;43m'\u001b[39;49m\u001b[43m)\u001b[49m\n\u001b[1;32m      3\u001b[0m     plt\u001b[38;5;241m.\u001b[39mshow()\n",
      "File \u001b[0;32m~/anaconda3/lib/python3.10/site-packages/pandas/plotting/_core.py:1000\u001b[0m, in \u001b[0;36mPlotAccessor.__call__\u001b[0;34m(self, *args, **kwargs)\u001b[0m\n\u001b[1;32m    997\u001b[0m             label_name \u001b[38;5;241m=\u001b[39m label_kw \u001b[38;5;129;01mor\u001b[39;00m data\u001b[38;5;241m.\u001b[39mcolumns\n\u001b[1;32m    998\u001b[0m             data\u001b[38;5;241m.\u001b[39mcolumns \u001b[38;5;241m=\u001b[39m label_name\n\u001b[0;32m-> 1000\u001b[0m \u001b[38;5;28;01mreturn\u001b[39;00m \u001b[43mplot_backend\u001b[49m\u001b[38;5;241;43m.\u001b[39;49m\u001b[43mplot\u001b[49m\u001b[43m(\u001b[49m\u001b[43mdata\u001b[49m\u001b[43m,\u001b[49m\u001b[43m \u001b[49m\u001b[43mkind\u001b[49m\u001b[38;5;241;43m=\u001b[39;49m\u001b[43mkind\u001b[49m\u001b[43m,\u001b[49m\u001b[43m \u001b[49m\u001b[38;5;241;43m*\u001b[39;49m\u001b[38;5;241;43m*\u001b[39;49m\u001b[43mkwargs\u001b[49m\u001b[43m)\u001b[49m\n",
      "File \u001b[0;32m~/anaconda3/lib/python3.10/site-packages/pandas/plotting/_matplotlib/__init__.py:71\u001b[0m, in \u001b[0;36mplot\u001b[0;34m(data, kind, **kwargs)\u001b[0m\n\u001b[1;32m     69\u001b[0m         kwargs[\u001b[38;5;124m\"\u001b[39m\u001b[38;5;124max\u001b[39m\u001b[38;5;124m\"\u001b[39m] \u001b[38;5;241m=\u001b[39m \u001b[38;5;28mgetattr\u001b[39m(ax, \u001b[38;5;124m\"\u001b[39m\u001b[38;5;124mleft_ax\u001b[39m\u001b[38;5;124m\"\u001b[39m, ax)\n\u001b[1;32m     70\u001b[0m plot_obj \u001b[38;5;241m=\u001b[39m PLOT_CLASSES[kind](data, \u001b[38;5;241m*\u001b[39m\u001b[38;5;241m*\u001b[39mkwargs)\n\u001b[0;32m---> 71\u001b[0m \u001b[43mplot_obj\u001b[49m\u001b[38;5;241;43m.\u001b[39;49m\u001b[43mgenerate\u001b[49m\u001b[43m(\u001b[49m\u001b[43m)\u001b[49m\n\u001b[1;32m     72\u001b[0m plot_obj\u001b[38;5;241m.\u001b[39mdraw()\n\u001b[1;32m     73\u001b[0m \u001b[38;5;28;01mreturn\u001b[39;00m plot_obj\u001b[38;5;241m.\u001b[39mresult\n",
      "File \u001b[0;32m~/anaconda3/lib/python3.10/site-packages/pandas/plotting/_matplotlib/core.py:452\u001b[0m, in \u001b[0;36mMPLPlot.generate\u001b[0;34m(self)\u001b[0m\n\u001b[1;32m    450\u001b[0m \u001b[38;5;28mself\u001b[39m\u001b[38;5;241m.\u001b[39m_compute_plot_data()\n\u001b[1;32m    451\u001b[0m \u001b[38;5;28mself\u001b[39m\u001b[38;5;241m.\u001b[39m_setup_subplots()\n\u001b[0;32m--> 452\u001b[0m \u001b[38;5;28;43mself\u001b[39;49m\u001b[38;5;241;43m.\u001b[39;49m\u001b[43m_make_plot\u001b[49m\u001b[43m(\u001b[49m\u001b[43m)\u001b[49m\n\u001b[1;32m    453\u001b[0m \u001b[38;5;28mself\u001b[39m\u001b[38;5;241m.\u001b[39m_add_table()\n\u001b[1;32m    454\u001b[0m \u001b[38;5;28mself\u001b[39m\u001b[38;5;241m.\u001b[39m_make_legend()\n",
      "File \u001b[0;32m~/anaconda3/lib/python3.10/site-packages/pandas/plotting/_matplotlib/boxplot.py:198\u001b[0m, in \u001b[0;36mBoxPlot._make_plot\u001b[0;34m(self)\u001b[0m\n\u001b[1;32m    196\u001b[0m \u001b[38;5;28;01mif\u001b[39;00m \u001b[38;5;129;01mnot\u001b[39;00m \u001b[38;5;28mself\u001b[39m\u001b[38;5;241m.\u001b[39muse_index:\n\u001b[1;32m    197\u001b[0m     labels \u001b[38;5;241m=\u001b[39m [pprint_thing(key) \u001b[38;5;28;01mfor\u001b[39;00m key \u001b[38;5;129;01min\u001b[39;00m \u001b[38;5;28mrange\u001b[39m(\u001b[38;5;28mlen\u001b[39m(labels))]\n\u001b[0;32m--> 198\u001b[0m \u001b[38;5;28;43mself\u001b[39;49m\u001b[38;5;241;43m.\u001b[39;49m\u001b[43m_set_ticklabels\u001b[49m\u001b[43m(\u001b[49m\u001b[43max\u001b[49m\u001b[43m,\u001b[49m\u001b[43m \u001b[49m\u001b[43mlabels\u001b[49m\u001b[43m)\u001b[49m\n",
      "File \u001b[0;32m~/anaconda3/lib/python3.10/site-packages/pandas/plotting/_matplotlib/boxplot.py:202\u001b[0m, in \u001b[0;36mBoxPlot._set_ticklabels\u001b[0;34m(self, ax, labels)\u001b[0m\n\u001b[1;32m    200\u001b[0m \u001b[38;5;28;01mdef\u001b[39;00m \u001b[38;5;21m_set_ticklabels\u001b[39m(\u001b[38;5;28mself\u001b[39m, ax: Axes, labels):\n\u001b[1;32m    201\u001b[0m     \u001b[38;5;28;01mif\u001b[39;00m \u001b[38;5;28mself\u001b[39m\u001b[38;5;241m.\u001b[39morientation \u001b[38;5;241m==\u001b[39m \u001b[38;5;124m\"\u001b[39m\u001b[38;5;124mvertical\u001b[39m\u001b[38;5;124m\"\u001b[39m:\n\u001b[0;32m--> 202\u001b[0m         \u001b[43max\u001b[49m\u001b[38;5;241;43m.\u001b[39;49m\u001b[43mset_xticklabels\u001b[49m\u001b[43m(\u001b[49m\u001b[43mlabels\u001b[49m\u001b[43m)\u001b[49m\n\u001b[1;32m    203\u001b[0m     \u001b[38;5;28;01melse\u001b[39;00m:\n\u001b[1;32m    204\u001b[0m         ax\u001b[38;5;241m.\u001b[39mset_yticklabels(labels)\n",
      "File \u001b[0;32m~/anaconda3/lib/python3.10/site-packages/matplotlib/axes/_base.py:74\u001b[0m, in \u001b[0;36m_axis_method_wrapper.__set_name__.<locals>.wrapper\u001b[0;34m(self, *args, **kwargs)\u001b[0m\n\u001b[1;32m     73\u001b[0m \u001b[38;5;28;01mdef\u001b[39;00m \u001b[38;5;21mwrapper\u001b[39m(\u001b[38;5;28mself\u001b[39m, \u001b[38;5;241m*\u001b[39margs, \u001b[38;5;241m*\u001b[39m\u001b[38;5;241m*\u001b[39mkwargs):\n\u001b[0;32m---> 74\u001b[0m     \u001b[38;5;28;01mreturn\u001b[39;00m \u001b[43mget_method\u001b[49m\u001b[43m(\u001b[49m\u001b[38;5;28;43mself\u001b[39;49m\u001b[43m)\u001b[49m\u001b[43m(\u001b[49m\u001b[38;5;241;43m*\u001b[39;49m\u001b[43margs\u001b[49m\u001b[43m,\u001b[49m\u001b[43m \u001b[49m\u001b[38;5;241;43m*\u001b[39;49m\u001b[38;5;241;43m*\u001b[39;49m\u001b[43mkwargs\u001b[49m\u001b[43m)\u001b[49m\n",
      "File \u001b[0;32m~/anaconda3/lib/python3.10/site-packages/matplotlib/_api/deprecation.py:297\u001b[0m, in \u001b[0;36mrename_parameter.<locals>.wrapper\u001b[0;34m(*args, **kwargs)\u001b[0m\n\u001b[1;32m    292\u001b[0m     warn_deprecated(\n\u001b[1;32m    293\u001b[0m         since, message\u001b[38;5;241m=\u001b[39m\u001b[38;5;124mf\u001b[39m\u001b[38;5;124m\"\u001b[39m\u001b[38;5;124mThe \u001b[39m\u001b[38;5;132;01m{\u001b[39;00mold\u001b[38;5;132;01m!r}\u001b[39;00m\u001b[38;5;124m parameter of \u001b[39m\u001b[38;5;132;01m{\u001b[39;00mfunc\u001b[38;5;241m.\u001b[39m\u001b[38;5;18m__name__\u001b[39m\u001b[38;5;132;01m}\u001b[39;00m\u001b[38;5;124m() \u001b[39m\u001b[38;5;124m\"\u001b[39m\n\u001b[1;32m    294\u001b[0m         \u001b[38;5;124mf\u001b[39m\u001b[38;5;124m\"\u001b[39m\u001b[38;5;124mhas been renamed \u001b[39m\u001b[38;5;132;01m{\u001b[39;00mnew\u001b[38;5;132;01m!r}\u001b[39;00m\u001b[38;5;124m since Matplotlib \u001b[39m\u001b[38;5;132;01m{\u001b[39;00msince\u001b[38;5;132;01m}\u001b[39;00m\u001b[38;5;124m; support \u001b[39m\u001b[38;5;124m\"\u001b[39m\n\u001b[1;32m    295\u001b[0m         \u001b[38;5;124mf\u001b[39m\u001b[38;5;124m\"\u001b[39m\u001b[38;5;124mfor the old name will be dropped %(removal)s.\u001b[39m\u001b[38;5;124m\"\u001b[39m)\n\u001b[1;32m    296\u001b[0m     kwargs[new] \u001b[38;5;241m=\u001b[39m kwargs\u001b[38;5;241m.\u001b[39mpop(old)\n\u001b[0;32m--> 297\u001b[0m \u001b[38;5;28;01mreturn\u001b[39;00m \u001b[43mfunc\u001b[49m\u001b[43m(\u001b[49m\u001b[38;5;241;43m*\u001b[39;49m\u001b[43margs\u001b[49m\u001b[43m,\u001b[49m\u001b[43m \u001b[49m\u001b[38;5;241;43m*\u001b[39;49m\u001b[38;5;241;43m*\u001b[39;49m\u001b[43mkwargs\u001b[49m\u001b[43m)\u001b[49m\n",
      "File \u001b[0;32m~/anaconda3/lib/python3.10/site-packages/matplotlib/axis.py:1973\u001b[0m, in \u001b[0;36mAxis.set_ticklabels\u001b[0;34m(self, labels, minor, fontdict, **kwargs)\u001b[0m\n\u001b[1;32m   1969\u001b[0m \u001b[38;5;28;01mif\u001b[39;00m \u001b[38;5;28misinstance\u001b[39m(locator, mticker\u001b[38;5;241m.\u001b[39mFixedLocator):\n\u001b[1;32m   1970\u001b[0m     \u001b[38;5;66;03m# Passing [] as a list of labels is often used as a way to\u001b[39;00m\n\u001b[1;32m   1971\u001b[0m     \u001b[38;5;66;03m# remove all tick labels, so only error for > 0 labels\u001b[39;00m\n\u001b[1;32m   1972\u001b[0m     \u001b[38;5;28;01mif\u001b[39;00m \u001b[38;5;28mlen\u001b[39m(locator\u001b[38;5;241m.\u001b[39mlocs) \u001b[38;5;241m!=\u001b[39m \u001b[38;5;28mlen\u001b[39m(labels) \u001b[38;5;129;01mand\u001b[39;00m \u001b[38;5;28mlen\u001b[39m(labels) \u001b[38;5;241m!=\u001b[39m \u001b[38;5;241m0\u001b[39m:\n\u001b[0;32m-> 1973\u001b[0m         \u001b[38;5;28;01mraise\u001b[39;00m \u001b[38;5;167;01mValueError\u001b[39;00m(\n\u001b[1;32m   1974\u001b[0m             \u001b[38;5;124m\"\u001b[39m\u001b[38;5;124mThe number of FixedLocator locations\u001b[39m\u001b[38;5;124m\"\u001b[39m\n\u001b[1;32m   1975\u001b[0m             \u001b[38;5;124mf\u001b[39m\u001b[38;5;124m\"\u001b[39m\u001b[38;5;124m (\u001b[39m\u001b[38;5;132;01m{\u001b[39;00m\u001b[38;5;28mlen\u001b[39m(locator\u001b[38;5;241m.\u001b[39mlocs)\u001b[38;5;132;01m}\u001b[39;00m\u001b[38;5;124m), usually from a call to\u001b[39m\u001b[38;5;124m\"\u001b[39m\n\u001b[1;32m   1976\u001b[0m             \u001b[38;5;124m\"\u001b[39m\u001b[38;5;124m set_ticks, does not match\u001b[39m\u001b[38;5;124m\"\u001b[39m\n\u001b[1;32m   1977\u001b[0m             \u001b[38;5;124mf\u001b[39m\u001b[38;5;124m\"\u001b[39m\u001b[38;5;124m the number of labels (\u001b[39m\u001b[38;5;132;01m{\u001b[39;00m\u001b[38;5;28mlen\u001b[39m(labels)\u001b[38;5;132;01m}\u001b[39;00m\u001b[38;5;124m).\u001b[39m\u001b[38;5;124m\"\u001b[39m)\n\u001b[1;32m   1978\u001b[0m     tickd \u001b[38;5;241m=\u001b[39m {loc: lab \u001b[38;5;28;01mfor\u001b[39;00m loc, lab \u001b[38;5;129;01min\u001b[39;00m \u001b[38;5;28mzip\u001b[39m(locator\u001b[38;5;241m.\u001b[39mlocs, labels)}\n\u001b[1;32m   1979\u001b[0m     func \u001b[38;5;241m=\u001b[39m functools\u001b[38;5;241m.\u001b[39mpartial(\u001b[38;5;28mself\u001b[39m\u001b[38;5;241m.\u001b[39m_format_with_dict, tickd)\n",
      "\u001b[0;31mValueError\u001b[0m: The number of FixedLocator locations (8), usually from a call to set_ticks, does not match the number of labels (1)."
     ]
    }
   ],
   "source": [
    "for i in continous_numeric:\n",
    "    loan_data[i].plot(kind='box')\n",
    "    plt.show()"
   ]
  },
  {
   "cell_type": "markdown",
   "id": "2dea7d5d",
   "metadata": {},
   "source": [
    "Looking for unique values again and dropping them if present"
   ]
  },
  {
   "cell_type": "code",
   "execution_count": 236,
   "id": "18a46307",
   "metadata": {},
   "outputs": [
    {
     "data": {
      "text/plain": [
       "loan_amnt                    867\n",
       "funded_amnt                 1015\n",
       "funded_amnt_inv             7978\n",
       "term                           2\n",
       "int_rate                      20\n",
       "installment                14910\n",
       "grade                          7\n",
       "sub_grade                     35\n",
       "emp_length                    10\n",
       "home_ownership                 5\n",
       "annual_inc                  5076\n",
       "verification_status            3\n",
       "issue_d                       55\n",
       "loan_status                    2\n",
       "purpose                       14\n",
       "dti                         2853\n",
       "delinq_2yrs                   11\n",
       "earliest_cr_line             524\n",
       "inq_last_6mths                 9\n",
       "open_acc                      40\n",
       "pub_rec                        5\n",
       "revol_bal                  21099\n",
       "revol_util                   100\n",
       "total_acc                     82\n",
       "out_prncp                      1\n",
       "out_prncp_inv                  1\n",
       "total_pymnt                36345\n",
       "total_pymnt_inv            36027\n",
       "total_rec_prncp             6791\n",
       "total_rec_int              33742\n",
       "total_rec_late_fee          1306\n",
       "recoveries                  3957\n",
       "collection_recovery_fee     2579\n",
       "last_pymnt_d                 101\n",
       "last_pymnt_amnt            34153\n",
       "last_credit_pull_d           106\n",
       "pub_rec_bankruptcies           3\n",
       "dtype: int64"
      ]
     },
     "execution_count": 236,
     "metadata": {},
     "output_type": "execute_result"
    }
   ],
   "source": [
    "loan_data.nunique()"
   ]
  },
  {
   "cell_type": "code",
   "execution_count": 237,
   "id": "b80e98a8",
   "metadata": {},
   "outputs": [
    {
     "data": {
      "text/plain": [
       "Index(['out_prncp', 'out_prncp_inv'], dtype='object')"
      ]
     },
     "execution_count": 237,
     "metadata": {},
     "output_type": "execute_result"
    }
   ],
   "source": [
    "single_val_col_loan_data = loan_data.columns[loan_data.nunique() == 1]\n",
    "single_val_col_loan_data"
   ]
  },
  {
   "cell_type": "code",
   "execution_count": 238,
   "id": "aeaf5b8f",
   "metadata": {},
   "outputs": [
    {
     "data": {
      "text/plain": [
       "(38180, 35)"
      ]
     },
     "execution_count": 238,
     "metadata": {},
     "output_type": "execute_result"
    }
   ],
   "source": [
    "loan_data = loan_data.drop(single_val_col_loan_data, axis = 1)\n",
    "loan_data.shape"
   ]
  },
  {
   "cell_type": "code",
   "execution_count": 239,
   "id": "6d9a37fd",
   "metadata": {},
   "outputs": [
    {
     "data": {
      "text/plain": [
       "Index(['loan_amnt', 'funded_amnt', 'funded_amnt_inv', 'term', 'int_rate',\n",
       "       'installment', 'grade', 'sub_grade', 'emp_length', 'home_ownership',\n",
       "       'annual_inc', 'verification_status', 'issue_d', 'loan_status',\n",
       "       'purpose', 'dti', 'delinq_2yrs', 'earliest_cr_line', 'inq_last_6mths',\n",
       "       'open_acc', 'pub_rec', 'revol_bal', 'revol_util', 'total_acc',\n",
       "       'total_pymnt', 'total_pymnt_inv', 'total_rec_prncp', 'total_rec_int',\n",
       "       'total_rec_late_fee', 'recoveries', 'collection_recovery_fee',\n",
       "       'last_pymnt_d', 'last_pymnt_amnt', 'last_credit_pull_d',\n",
       "       'pub_rec_bankruptcies'],\n",
       "      dtype='object')"
      ]
     },
     "execution_count": 239,
     "metadata": {},
     "output_type": "execute_result"
    }
   ],
   "source": [
    "loan_data.columns"
   ]
  },
  {
   "cell_type": "markdown",
   "id": "d4cdabbb",
   "metadata": {},
   "source": [
    "Filtering out redundant columns\n",
    "- Dropping 'funded_amnt' as 'funded_amnt_inv' can be used.\n",
    "- Dropping 'total_pymnt' as 'total_pymnt_inv' can be used.\n"
   ]
  },
  {
   "cell_type": "code",
   "execution_count": 240,
   "id": "28b665cb",
   "metadata": {},
   "outputs": [
    {
     "data": {
      "text/plain": [
       "(38180, 33)"
      ]
     },
     "execution_count": 240,
     "metadata": {},
     "output_type": "execute_result"
    }
   ],
   "source": [
    "loan_data = loan_data.drop(['funded_amnt','total_pymnt'], axis = 1)\n",
    "loan_data.shape"
   ]
  },
  {
   "cell_type": "markdown",
   "id": "3ecd5839",
   "metadata": {},
   "source": [
    "### Visualizing categorical data and binning them if required"
   ]
  },
  {
   "cell_type": "code",
   "execution_count": 242,
   "id": "d1cd67f4",
   "metadata": {
    "scrolled": false
   },
   "outputs": [],
   "source": [
    "for i in categorical:\n",
    "    sns.countplot(x=loan_data[i])\n",
    "    plt.xticks(rotation = 90 )\n",
    "    plt.show()"
   ]
  },
  {
   "cell_type": "markdown",
   "id": "df87522d",
   "metadata": {},
   "source": [
    "### Observations from Univariate analysis"
   ]
  },
  {
   "cell_type": "raw",
   "id": "25049234",
   "metadata": {},
   "source": [
    "- Annual_income has some extreme outliers. Rest of them can be managed.\n",
    "- ~26k number of loans have a term of 36 months\n",
    "- ~12k loans are B grade\n",
    "- 8k candidates have work experience with 10+ year\n",
    "- ~17k have either a MORTGAGE or RENT\n",
    "- ~17k have a verified status of Not verified."
   ]
  },
  {
   "cell_type": "markdown",
   "id": "c86dfdde",
   "metadata": {},
   "source": [
    "## Bivariate analysis"
   ]
  },
  {
   "cell_type": "markdown",
   "id": "f4f7d863",
   "metadata": {},
   "source": [
    "### Analysis columns against 'loan_status'"
   ]
  },
  {
   "cell_type": "code",
   "execution_count": 243,
   "id": "d96201e6",
   "metadata": {},
   "outputs": [
    {
     "data": {
      "text/html": [
       "<div>\n",
       "<style scoped>\n",
       "    .dataframe tbody tr th:only-of-type {\n",
       "        vertical-align: middle;\n",
       "    }\n",
       "\n",
       "    .dataframe tbody tr th {\n",
       "        vertical-align: top;\n",
       "    }\n",
       "\n",
       "    .dataframe thead th {\n",
       "        text-align: right;\n",
       "    }\n",
       "</style>\n",
       "<table border=\"1\" class=\"dataframe\">\n",
       "  <thead>\n",
       "    <tr style=\"text-align: right;\">\n",
       "      <th></th>\n",
       "      <th>loan_amnt</th>\n",
       "      <th>funded_amnt_inv</th>\n",
       "      <th>term</th>\n",
       "      <th>int_rate</th>\n",
       "      <th>installment</th>\n",
       "      <th>grade</th>\n",
       "      <th>sub_grade</th>\n",
       "      <th>emp_length</th>\n",
       "      <th>home_ownership</th>\n",
       "      <th>annual_inc</th>\n",
       "      <th>...</th>\n",
       "      <th>total_pymnt_inv</th>\n",
       "      <th>total_rec_prncp</th>\n",
       "      <th>total_rec_int</th>\n",
       "      <th>total_rec_late_fee</th>\n",
       "      <th>recoveries</th>\n",
       "      <th>collection_recovery_fee</th>\n",
       "      <th>last_pymnt_d</th>\n",
       "      <th>last_pymnt_amnt</th>\n",
       "      <th>last_credit_pull_d</th>\n",
       "      <th>pub_rec_bankruptcies</th>\n",
       "    </tr>\n",
       "  </thead>\n",
       "  <tbody>\n",
       "    <tr>\n",
       "      <th>1</th>\n",
       "      <td>2500</td>\n",
       "      <td>2500.0</td>\n",
       "      <td>60</td>\n",
       "      <td>15.0</td>\n",
       "      <td>59.83</td>\n",
       "      <td>C</td>\n",
       "      <td>C4</td>\n",
       "      <td>1</td>\n",
       "      <td>RENT</td>\n",
       "      <td>30000.0</td>\n",
       "      <td>...</td>\n",
       "      <td>1008.71</td>\n",
       "      <td>456.46</td>\n",
       "      <td>435.17</td>\n",
       "      <td>0.00</td>\n",
       "      <td>117.08</td>\n",
       "      <td>1.1100</td>\n",
       "      <td>Apr-13</td>\n",
       "      <td>119.66</td>\n",
       "      <td>Sep-13</td>\n",
       "      <td>0.0</td>\n",
       "    </tr>\n",
       "    <tr>\n",
       "      <th>8</th>\n",
       "      <td>5600</td>\n",
       "      <td>5600.0</td>\n",
       "      <td>60</td>\n",
       "      <td>21.0</td>\n",
       "      <td>152.39</td>\n",
       "      <td>F</td>\n",
       "      <td>F2</td>\n",
       "      <td>4</td>\n",
       "      <td>OWN</td>\n",
       "      <td>40000.0</td>\n",
       "      <td>...</td>\n",
       "      <td>646.02</td>\n",
       "      <td>162.02</td>\n",
       "      <td>294.94</td>\n",
       "      <td>0.00</td>\n",
       "      <td>189.06</td>\n",
       "      <td>2.0900</td>\n",
       "      <td>Apr-12</td>\n",
       "      <td>152.39</td>\n",
       "      <td>Aug-12</td>\n",
       "      <td>0.0</td>\n",
       "    </tr>\n",
       "    <tr>\n",
       "      <th>9</th>\n",
       "      <td>5375</td>\n",
       "      <td>5350.0</td>\n",
       "      <td>60</td>\n",
       "      <td>12.0</td>\n",
       "      <td>121.45</td>\n",
       "      <td>B</td>\n",
       "      <td>B5</td>\n",
       "      <td>1</td>\n",
       "      <td>RENT</td>\n",
       "      <td>15000.0</td>\n",
       "      <td>...</td>\n",
       "      <td>1469.34</td>\n",
       "      <td>673.48</td>\n",
       "      <td>533.42</td>\n",
       "      <td>0.00</td>\n",
       "      <td>269.29</td>\n",
       "      <td>2.5200</td>\n",
       "      <td>Nov-12</td>\n",
       "      <td>121.45</td>\n",
       "      <td>Mar-13</td>\n",
       "      <td>0.0</td>\n",
       "    </tr>\n",
       "    <tr>\n",
       "      <th>12</th>\n",
       "      <td>9000</td>\n",
       "      <td>9000.0</td>\n",
       "      <td>36</td>\n",
       "      <td>13.0</td>\n",
       "      <td>305.38</td>\n",
       "      <td>C</td>\n",
       "      <td>C1</td>\n",
       "      <td>1</td>\n",
       "      <td>RENT</td>\n",
       "      <td>30000.0</td>\n",
       "      <td>...</td>\n",
       "      <td>2270.70</td>\n",
       "      <td>1256.14</td>\n",
       "      <td>570.26</td>\n",
       "      <td>0.00</td>\n",
       "      <td>444.30</td>\n",
       "      <td>4.1600</td>\n",
       "      <td>Jul-12</td>\n",
       "      <td>305.38</td>\n",
       "      <td>Nov-12</td>\n",
       "      <td>0.0</td>\n",
       "    </tr>\n",
       "    <tr>\n",
       "      <th>14</th>\n",
       "      <td>10000</td>\n",
       "      <td>10000.0</td>\n",
       "      <td>36</td>\n",
       "      <td>10.0</td>\n",
       "      <td>325.74</td>\n",
       "      <td>B</td>\n",
       "      <td>B2</td>\n",
       "      <td>3</td>\n",
       "      <td>RENT</td>\n",
       "      <td>100000.0</td>\n",
       "      <td>...</td>\n",
       "      <td>7471.99</td>\n",
       "      <td>5433.47</td>\n",
       "      <td>1393.42</td>\n",
       "      <td>0.00</td>\n",
       "      <td>645.10</td>\n",
       "      <td>6.3145</td>\n",
       "      <td>Oct-13</td>\n",
       "      <td>325.74</td>\n",
       "      <td>Mar-14</td>\n",
       "      <td>0.0</td>\n",
       "    </tr>\n",
       "    <tr>\n",
       "      <th>...</th>\n",
       "      <td>...</td>\n",
       "      <td>...</td>\n",
       "      <td>...</td>\n",
       "      <td>...</td>\n",
       "      <td>...</td>\n",
       "      <td>...</td>\n",
       "      <td>...</td>\n",
       "      <td>...</td>\n",
       "      <td>...</td>\n",
       "      <td>...</td>\n",
       "      <td>...</td>\n",
       "      <td>...</td>\n",
       "      <td>...</td>\n",
       "      <td>...</td>\n",
       "      <td>...</td>\n",
       "      <td>...</td>\n",
       "      <td>...</td>\n",
       "      <td>...</td>\n",
       "      <td>...</td>\n",
       "      <td>...</td>\n",
       "      <td>...</td>\n",
       "    </tr>\n",
       "    <tr>\n",
       "      <th>39667</th>\n",
       "      <td>2500</td>\n",
       "      <td>675.0</td>\n",
       "      <td>36</td>\n",
       "      <td>12.0</td>\n",
       "      <td>84.00</td>\n",
       "      <td>D</td>\n",
       "      <td>D4</td>\n",
       "      <td>1</td>\n",
       "      <td>MORTGAGE</td>\n",
       "      <td>32000.0</td>\n",
       "      <td>...</td>\n",
       "      <td>599.28</td>\n",
       "      <td>1706.01</td>\n",
       "      <td>477.21</td>\n",
       "      <td>1.69</td>\n",
       "      <td>35.70</td>\n",
       "      <td>0.3800</td>\n",
       "      <td>Mar-10</td>\n",
       "      <td>1.76</td>\n",
       "      <td>May-16</td>\n",
       "      <td>0.0</td>\n",
       "    </tr>\n",
       "    <tr>\n",
       "      <th>39668</th>\n",
       "      <td>2500</td>\n",
       "      <td>825.0</td>\n",
       "      <td>36</td>\n",
       "      <td>9.0</td>\n",
       "      <td>80.26</td>\n",
       "      <td>B</td>\n",
       "      <td>B4</td>\n",
       "      <td>1</td>\n",
       "      <td>MORTGAGE</td>\n",
       "      <td>75000.0</td>\n",
       "      <td>...</td>\n",
       "      <td>688.35</td>\n",
       "      <td>1730.83</td>\n",
       "      <td>354.44</td>\n",
       "      <td>1.36</td>\n",
       "      <td>0.00</td>\n",
       "      <td>0.0000</td>\n",
       "      <td>Mar-10</td>\n",
       "      <td>1.40</td>\n",
       "      <td>May-16</td>\n",
       "      <td>0.0</td>\n",
       "    </tr>\n",
       "    <tr>\n",
       "      <th>39669</th>\n",
       "      <td>6500</td>\n",
       "      <td>225.0</td>\n",
       "      <td>36</td>\n",
       "      <td>15.0</td>\n",
       "      <td>225.37</td>\n",
       "      <td>F</td>\n",
       "      <td>F1</td>\n",
       "      <td>9</td>\n",
       "      <td>MORTGAGE</td>\n",
       "      <td>213000.0</td>\n",
       "      <td>...</td>\n",
       "      <td>139.42</td>\n",
       "      <td>2886.21</td>\n",
       "      <td>1168.14</td>\n",
       "      <td>0.00</td>\n",
       "      <td>0.00</td>\n",
       "      <td>0.0000</td>\n",
       "      <td>Feb-09</td>\n",
       "      <td>225.37</td>\n",
       "      <td>May-16</td>\n",
       "      <td>0.0</td>\n",
       "    </tr>\n",
       "    <tr>\n",
       "      <th>39678</th>\n",
       "      <td>1000</td>\n",
       "      <td>950.0</td>\n",
       "      <td>36</td>\n",
       "      <td>10.0</td>\n",
       "      <td>32.55</td>\n",
       "      <td>C</td>\n",
       "      <td>C2</td>\n",
       "      <td>2</td>\n",
       "      <td>MORTGAGE</td>\n",
       "      <td>33990.0</td>\n",
       "      <td>...</td>\n",
       "      <td>668.87</td>\n",
       "      <td>544.02</td>\n",
       "      <td>138.64</td>\n",
       "      <td>0.00</td>\n",
       "      <td>21.29</td>\n",
       "      <td>0.2300</td>\n",
       "      <td>May-09</td>\n",
       "      <td>32.55</td>\n",
       "      <td>Oct-09</td>\n",
       "      <td>0.0</td>\n",
       "    </tr>\n",
       "    <tr>\n",
       "      <th>39688</th>\n",
       "      <td>20000</td>\n",
       "      <td>2800.0</td>\n",
       "      <td>36</td>\n",
       "      <td>13.0</td>\n",
       "      <td>678.08</td>\n",
       "      <td>E</td>\n",
       "      <td>E1</td>\n",
       "      <td>6</td>\n",
       "      <td>MORTGAGE</td>\n",
       "      <td>145000.0</td>\n",
       "      <td>...</td>\n",
       "      <td>2845.82</td>\n",
       "      <td>16077.42</td>\n",
       "      <td>4262.24</td>\n",
       "      <td>0.00</td>\n",
       "      <td>0.00</td>\n",
       "      <td>0.0000</td>\n",
       "      <td>Feb-10</td>\n",
       "      <td>678.08</td>\n",
       "      <td>May-16</td>\n",
       "      <td>0.0</td>\n",
       "    </tr>\n",
       "  </tbody>\n",
       "</table>\n",
       "<p>5513 rows × 33 columns</p>\n",
       "</div>"
      ],
      "text/plain": [
       "       loan_amnt  funded_amnt_inv  term  int_rate  installment grade  \\\n",
       "1           2500           2500.0    60      15.0        59.83     C   \n",
       "8           5600           5600.0    60      21.0       152.39     F   \n",
       "9           5375           5350.0    60      12.0       121.45     B   \n",
       "12          9000           9000.0    36      13.0       305.38     C   \n",
       "14         10000          10000.0    36      10.0       325.74     B   \n",
       "...          ...              ...   ...       ...          ...   ...   \n",
       "39667       2500            675.0    36      12.0        84.00     D   \n",
       "39668       2500            825.0    36       9.0        80.26     B   \n",
       "39669       6500            225.0    36      15.0       225.37     F   \n",
       "39678       1000            950.0    36      10.0        32.55     C   \n",
       "39688      20000           2800.0    36      13.0       678.08     E   \n",
       "\n",
       "      sub_grade  emp_length home_ownership  annual_inc  ... total_pymnt_inv  \\\n",
       "1            C4           1           RENT     30000.0  ...         1008.71   \n",
       "8            F2           4            OWN     40000.0  ...          646.02   \n",
       "9            B5           1           RENT     15000.0  ...         1469.34   \n",
       "12           C1           1           RENT     30000.0  ...         2270.70   \n",
       "14           B2           3           RENT    100000.0  ...         7471.99   \n",
       "...         ...         ...            ...         ...  ...             ...   \n",
       "39667        D4           1       MORTGAGE     32000.0  ...          599.28   \n",
       "39668        B4           1       MORTGAGE     75000.0  ...          688.35   \n",
       "39669        F1           9       MORTGAGE    213000.0  ...          139.42   \n",
       "39678        C2           2       MORTGAGE     33990.0  ...          668.87   \n",
       "39688        E1           6       MORTGAGE    145000.0  ...         2845.82   \n",
       "\n",
       "      total_rec_prncp total_rec_int total_rec_late_fee  recoveries  \\\n",
       "1              456.46        435.17               0.00      117.08   \n",
       "8              162.02        294.94               0.00      189.06   \n",
       "9              673.48        533.42               0.00      269.29   \n",
       "12            1256.14        570.26               0.00      444.30   \n",
       "14            5433.47       1393.42               0.00      645.10   \n",
       "...               ...           ...                ...         ...   \n",
       "39667         1706.01        477.21               1.69       35.70   \n",
       "39668         1730.83        354.44               1.36        0.00   \n",
       "39669         2886.21       1168.14               0.00        0.00   \n",
       "39678          544.02        138.64               0.00       21.29   \n",
       "39688        16077.42       4262.24               0.00        0.00   \n",
       "\n",
       "       collection_recovery_fee last_pymnt_d  last_pymnt_amnt  \\\n",
       "1                       1.1100       Apr-13           119.66   \n",
       "8                       2.0900       Apr-12           152.39   \n",
       "9                       2.5200       Nov-12           121.45   \n",
       "12                      4.1600       Jul-12           305.38   \n",
       "14                      6.3145       Oct-13           325.74   \n",
       "...                        ...          ...              ...   \n",
       "39667                   0.3800       Mar-10             1.76   \n",
       "39668                   0.0000       Mar-10             1.40   \n",
       "39669                   0.0000       Feb-09           225.37   \n",
       "39678                   0.2300       May-09            32.55   \n",
       "39688                   0.0000       Feb-10           678.08   \n",
       "\n",
       "       last_credit_pull_d  pub_rec_bankruptcies  \n",
       "1                  Sep-13                   0.0  \n",
       "8                  Aug-12                   0.0  \n",
       "9                  Mar-13                   0.0  \n",
       "12                 Nov-12                   0.0  \n",
       "14                 Mar-14                   0.0  \n",
       "...                   ...                   ...  \n",
       "39667              May-16                   0.0  \n",
       "39668              May-16                   0.0  \n",
       "39669              May-16                   0.0  \n",
       "39678              Oct-09                   0.0  \n",
       "39688              May-16                   0.0  \n",
       "\n",
       "[5513 rows x 33 columns]"
      ]
     },
     "execution_count": 243,
     "metadata": {},
     "output_type": "execute_result"
    }
   ],
   "source": [
    "loan_data[loan_data.loan_status=='Charged Off']"
   ]
  },
  {
   "cell_type": "code",
   "execution_count": 244,
   "id": "3524091c",
   "metadata": {},
   "outputs": [
    {
     "data": {
      "text/plain": [
       "Index(['loan_amnt', 'funded_amnt_inv', 'term', 'int_rate', 'installment',\n",
       "       'grade', 'sub_grade', 'emp_length', 'home_ownership', 'annual_inc',\n",
       "       'verification_status', 'issue_d', 'loan_status', 'purpose', 'dti',\n",
       "       'delinq_2yrs', 'earliest_cr_line', 'inq_last_6mths', 'open_acc',\n",
       "       'pub_rec', 'revol_bal', 'revol_util', 'total_acc', 'total_pymnt_inv',\n",
       "       'total_rec_prncp', 'total_rec_int', 'total_rec_late_fee', 'recoveries',\n",
       "       'collection_recovery_fee', 'last_pymnt_d', 'last_pymnt_amnt',\n",
       "       'last_credit_pull_d', 'pub_rec_bankruptcies'],\n",
       "      dtype='object')"
      ]
     },
     "execution_count": 244,
     "metadata": {},
     "output_type": "execute_result"
    }
   ],
   "source": [
    "loan_data.columns"
   ]
  },
  {
   "cell_type": "markdown",
   "id": "cdd7d6c8",
   "metadata": {},
   "source": [
    "### Analysing 'loan_amnt', against 'loan_status' by creating group of 'loan_amnt'"
   ]
  },
  {
   "cell_type": "code",
   "execution_count": 245,
   "id": "38210088",
   "metadata": {},
   "outputs": [],
   "source": [
    "loan_data['loan_amnt_bins'] = pd.cut(loan_data['loan_amnt'], bins=7,labels=['0-5k','5k-10k','10k-15k','15k-20k','20k-25k','25k-30k','30k-35k'])\n",
    "sns.countplot(x='loan_amnt_bins', data=loan_data[loan_data['loan_status']=='Charged Off'])\n",
    "plt.show()"
   ]
  },
  {
   "cell_type": "markdown",
   "id": "c9ddfdd5",
   "metadata": {},
   "source": [
    "### Analysing 'term' against 'charged off' loans"
   ]
  },
  {
   "cell_type": "code",
   "execution_count": null,
   "id": "6a64545b",
   "metadata": {},
   "outputs": [],
   "source": [
    "sns.countplot(y='term', data=loan_data[loan_data['loan_status']=='Charged Off'])"
   ]
  },
  {
   "cell_type": "markdown",
   "id": "cbc2fcf4",
   "metadata": {},
   "source": [
    "### Analysis 'int_rate' against 'charged off' loans by creating int_rate bins"
   ]
  },
  {
   "cell_type": "code",
   "execution_count": null,
   "id": "00c10532",
   "metadata": {},
   "outputs": [],
   "source": [
    "loan_data['int_rate'].describe()"
   ]
  },
  {
   "cell_type": "code",
   "execution_count": null,
   "id": "38d9469c",
   "metadata": {},
   "outputs": [],
   "source": [
    "loan_data['int_rate_bins'] = pd.cut(loan_data['int_rate'], bins=4,labels=['5-9%','10-14%','15-19%','20-24%'])\n",
    "sns.countplot(y='int_rate_bins', data=loan_data[loan_data['loan_status']=='Charged Off'])\n",
    "plt.show()"
   ]
  },
  {
   "cell_type": "markdown",
   "id": "9344955b",
   "metadata": {},
   "source": [
    "### Analysis 'installment' against 'charged off' loans by creating installment bins"
   ]
  },
  {
   "cell_type": "code",
   "execution_count": null,
   "id": "cb346c1b",
   "metadata": {},
   "outputs": [],
   "source": [
    "loan_data['installment'].describe()"
   ]
  },
  {
   "cell_type": "code",
   "execution_count": null,
   "id": "7e1a8a8e",
   "metadata": {},
   "outputs": [],
   "source": [
    "loan_data['installment_bins'] = pd.cut(loan_data['installment'], bins=10,labels=['15-144','145-273','274-402','403-531','532-660','661-789','790-918','919-1047','1048-1176','1177-1306'])\n",
    "sns.countplot(y='installment_bins', data=loan_data[loan_data['loan_status']=='Charged Off'])\n",
    "plt.show()"
   ]
  },
  {
   "cell_type": "markdown",
   "id": "e9920be1",
   "metadata": {},
   "source": [
    "### Anaylysing 'grade' and 'sub grade'"
   ]
  },
  {
   "cell_type": "code",
   "execution_count": null,
   "id": "16a1bf3d",
   "metadata": {},
   "outputs": [],
   "source": [
    "sns.countplot(y='grade', data=loan_data[loan_data['loan_status']=='Charged Off'])\n",
    "plt.show()"
   ]
  },
  {
   "cell_type": "code",
   "execution_count": null,
   "id": "9a2922da",
   "metadata": {},
   "outputs": [],
   "source": [
    "sns.countplot(y='sub_grade', data=loan_data[loan_data['loan_status']=='Charged Off'])\n",
    "plt.show()"
   ]
  },
  {
   "cell_type": "markdown",
   "id": "07d05a5d",
   "metadata": {},
   "source": [
    "### Anaylysing employment length against charged off loans"
   ]
  },
  {
   "cell_type": "code",
   "execution_count": null,
   "id": "b54fdb25",
   "metadata": {},
   "outputs": [],
   "source": [
    "sns.countplot(y='emp_length', data=loan_data[loan_data['loan_status']=='Charged Off'])\n",
    "plt.show()"
   ]
  },
  {
   "cell_type": "markdown",
   "id": "98e7ea52",
   "metadata": {},
   "source": [
    "### Anaylysing 'home_ownership' against charged off loans"
   ]
  },
  {
   "cell_type": "code",
   "execution_count": null,
   "id": "62340c58",
   "metadata": {},
   "outputs": [],
   "source": [
    "sns.countplot(y='home_ownership', data=loan_data[loan_data['loan_status']=='Charged Off'])\n",
    "plt.show()"
   ]
  },
  {
   "cell_type": "markdown",
   "id": "83565056",
   "metadata": {},
   "source": [
    "### Anaylysing 'annual_inc' against charged off loans by creating bins of annual income"
   ]
  },
  {
   "cell_type": "code",
   "execution_count": null,
   "id": "28821bcf",
   "metadata": {
    "scrolled": true
   },
   "outputs": [],
   "source": [
    "loan_data['annual_inc'].describe()"
   ]
  },
  {
   "cell_type": "code",
   "execution_count": null,
   "id": "fdffc455",
   "metadata": {},
   "outputs": [],
   "source": [
    "loan_data['annual_inc_bins'] = pd.cut(loan_data['annual_inc'], bins=10,precision =0,labels =['4-29','30-54k','55-79k','80-104k','105-129k','130-154k','155-179k','180-204k','205-229k','230-260k'])\n",
    "sns.countplot(y='annual_inc_bins', data=loan_data[loan_data['loan_status']=='Charged Off'])\n",
    "plt.show()"
   ]
  },
  {
   "cell_type": "markdown",
   "id": "c1b55318",
   "metadata": {},
   "source": [
    "### Analysing 'Verification_status' against charged off status"
   ]
  },
  {
   "cell_type": "code",
   "execution_count": null,
   "id": "eb6f8c5a",
   "metadata": {},
   "outputs": [],
   "source": [
    "sns.countplot(y='verification_status', data=loan_data[loan_data['loan_status']=='Charged Off'])\n",
    "plt.show()"
   ]
  },
  {
   "cell_type": "markdown",
   "id": "8e375039",
   "metadata": {},
   "source": [
    "### Analysing 'purpose' against charged off loans"
   ]
  },
  {
   "cell_type": "code",
   "execution_count": null,
   "id": "487743c3",
   "metadata": {},
   "outputs": [],
   "source": [
    "sns.countplot(y='purpose', data=loan_data[loan_data['loan_status']=='Charged Off'])\n",
    "plt.show()"
   ]
  },
  {
   "cell_type": "markdown",
   "id": "f533ce76",
   "metadata": {},
   "source": [
    "### Analysing 'dti' against charged off loans"
   ]
  },
  {
   "cell_type": "code",
   "execution_count": null,
   "id": "45b5868a",
   "metadata": {},
   "outputs": [],
   "source": [
    "loan_data['dti_bins'] = pd.cut(loan_data['dti'], bins=5,precision =0,labels =['0-5','6-11','12-17','18-23','24-30'])\n",
    "sns.countplot(y='dti_bins', data=loan_data[loan_data['loan_status']=='Charged Off'])\n",
    "plt.show()"
   ]
  },
  {
   "cell_type": "markdown",
   "id": "0fa56107",
   "metadata": {},
   "source": [
    "### Analysing 'delinq_2yrs', 'inq_last_6mths' and 'open_acc' against chanrged off loans"
   ]
  },
  {
   "cell_type": "code",
   "execution_count": null,
   "id": "2f04bb3f",
   "metadata": {},
   "outputs": [],
   "source": [
    "sns.countplot(y='delinq_2yrs', data=loan_data[loan_data['loan_status']=='Charged Off'])\n",
    "plt.show()"
   ]
  },
  {
   "cell_type": "code",
   "execution_count": null,
   "id": "ea7061c4",
   "metadata": {},
   "outputs": [],
   "source": [
    "sns.countplot(y='inq_last_6mths', data=loan_data[loan_data['loan_status']=='Charged Off'])\n",
    "plt.show()"
   ]
  },
  {
   "cell_type": "code",
   "execution_count": null,
   "id": "19232e9a",
   "metadata": {},
   "outputs": [],
   "source": [
    "loan_data['open_acc_bins'] = pd.cut(loan_data['open_acc'],bins = 5,precision =0,labels=['2-10','10-19','19-27','27-36','36-44'])\n",
    "sns.countplot(y='open_acc_bins', data=loan_data[loan_data['loan_status']=='Charged Off'])\n",
    "plt.show()"
   ]
  },
  {
   "cell_type": "markdown",
   "id": "47cd5f09",
   "metadata": {},
   "source": [
    "### Analysing 'pub_rec' 'revol_bal', 'revol_util' against charged off loans"
   ]
  },
  {
   "cell_type": "code",
   "execution_count": null,
   "id": "d92bed76",
   "metadata": {},
   "outputs": [],
   "source": [
    "sns.countplot(y='pub_rec', data=loan_data[loan_data['loan_status']=='Charged Off'])\n",
    "plt.show()"
   ]
  },
  {
   "cell_type": "code",
   "execution_count": null,
   "id": "8562163a",
   "metadata": {},
   "outputs": [],
   "source": [
    "loan_data['revol_util'].describe()"
   ]
  },
  {
   "cell_type": "code",
   "execution_count": null,
   "id": "11272590",
   "metadata": {},
   "outputs": [],
   "source": [
    "loan_data['revol_bal_bins'] = pd.cut(loan_data['revol_bal'], bins=5,labels=['0-30','31-60','61-90','91-120','121-150'])\n",
    "sns.countplot(y='revol_bal_bins', data=loan_data[loan_data['loan_status']=='Charged Off'])\n",
    "plt.show()\n",
    "loan_data['revol_util_bins'] = pd.cut(loan_data['revol_util'], bins=5,precision =0,labels=['0-20','20-40','40-60','60-80','80-100'])\n",
    "sns.countplot(y='revol_util_bins', data=loan_data[loan_data['loan_status']=='Charged Off'])\n",
    "plt.show()"
   ]
  },
  {
   "cell_type": "markdown",
   "id": "9d8e1fa2",
   "metadata": {},
   "source": [
    "### Analysis 'total_acc', 'total_rec_prncp' and 'pub_rec_bankruptcies'"
   ]
  },
  {
   "cell_type": "code",
   "execution_count": null,
   "id": "2eb777ff",
   "metadata": {},
   "outputs": [],
   "source": [
    "loan_data['total_acc_bins'] = pd.cut(loan_data['total_acc'], bins=5,precision =0,labels=['2-20','20-37','37-55','55-74','74-90'])\n",
    "sns.countplot(x='total_acc_bins', data=loan_data[loan_data.loan_status == 'Charged Off'])\n",
    "plt.show()\n",
    "loan_data['total_rec_prncp_bins'] = pd.cut(loan_data['total_rec_prncp'], bins=7,precision =0,labels=['0-5k','6-10k','11-15k','16-20k','21-25k','26-30k','31-35k'])\n",
    "sns.countplot(x='total_rec_prncp_bins', data=loan_data[loan_data.loan_status == 'Charged Off'])\n",
    "plt.show()\n",
    "sns.countplot(x='pub_rec_bankruptcies', data=loan_data[loan_data.loan_status == 'Charged Off'])\n",
    "plt.show()\n"
   ]
  },
  {
   "cell_type": "markdown",
   "id": "516d09aa",
   "metadata": {},
   "source": [
    "### Analysing by 'issue_d' and extracting month and year "
   ]
  },
  {
   "cell_type": "code",
   "execution_count": null,
   "id": "e2e8a945",
   "metadata": {},
   "outputs": [],
   "source": [
    "loan_data['issue_d'].value_counts()"
   ]
  },
  {
   "cell_type": "code",
   "execution_count": null,
   "id": "e62e3bcd",
   "metadata": {},
   "outputs": [],
   "source": [
    "## Extracting month and year\n",
    "issue_d_month_year = loan_data['issue_d'].str.partition(\"-\", True)     \n",
    "loan_data['issue_month']=issue_d_month_year[0]                       \n",
    "loan_data['issue_year']='20' + issue_d_month_year[2]"
   ]
  },
  {
   "cell_type": "code",
   "execution_count": null,
   "id": "abd6eeb8",
   "metadata": {},
   "outputs": [],
   "source": []
  },
  {
   "cell_type": "code",
   "execution_count": null,
   "id": "d382b1dd",
   "metadata": {},
   "outputs": [],
   "source": [
    "sns.countplot(x='issue_month', data=loan_data[loan_data['loan_status']=='Charged Off'])\n",
    "plt.show()\n",
    "sns.countplot(x='issue_year', data=loan_data[loan_data['loan_status']=='Charged Off'])\n",
    "plt.show()"
   ]
  },
  {
   "cell_type": "markdown",
   "id": "2f78189c",
   "metadata": {},
   "source": [
    "## Observations for the above Bivariate analysis "
   ]
  },
  {
   "cell_type": "code",
   "execution_count": null,
   "id": "011f76b6",
   "metadata": {},
   "outputs": [],
   "source": [
    "loan defaulters are higher :\n",
    "    - whose 'loan amounts' are between 5000 to 10000.\n",
    "    - who have a 'term' of 36 months\n",
    "    - for the 'int_rate' between 10-14%\n",
    "    - montly 'installment' are between 145-273\n",
    "    - Grade 'B' and 'B5' loans\n",
    "    - whose employment lenght is > 10 years\n",
    "    - who 'RENT' a home\n",
    "    - whose annual income is between 30-54k\n",
    "    - when the loan verification status is 'not verified'\n",
    "    - purpose of loan is 'debt consolidation'\n",
    "    - debt to income ratio is between 12-17\n",
    "    - no inquiries in last 6 months (0)\n",
    "    - whose number of open credit lines in their credit file are between 2-10\n",
    "    - whose derogatory public records are 0\n",
    "    - total credit revolving balance is between 0-30\n",
    "    - Revolving line utilization rate is 60-80\n",
    "    - total credit lines 2-20\n",
    "    - principal received to date is 0-5k\n",
    "    - 0 public record bankruptcies\n",
    "    - whose issue year is 2011 and month is December"
   ]
  },
  {
   "cell_type": "markdown",
   "id": "eb99d931",
   "metadata": {},
   "source": [
    "## Multivariate analysis"
   ]
  },
  {
   "cell_type": "code",
   "execution_count": null,
   "id": "56e5ccb3",
   "metadata": {
    "scrolled": true
   },
   "outputs": [],
   "source": [
    "plt.figure(figsize=[10,10] )\n",
    "sns.pairplot(loan_data[['loan_amnt', 'annual_inc','int_rate','loan_status']], \n",
    "             hue='loan_status')\n",
    "plt.show()"
   ]
  },
  {
   "cell_type": "code",
   "execution_count": null,
   "id": "52060218",
   "metadata": {},
   "outputs": [],
   "source": [
    "plt.figure(figsize=(10,10))\n",
    "sns.barplot(data =loan_data,x='annual_inc', y='purpose', hue ='loan_status',palette=\"deep\")\n",
    "plt.show()"
   ]
  },
  {
   "cell_type": "code",
   "execution_count": null,
   "id": "b398c7fa",
   "metadata": {},
   "outputs": [],
   "source": [
    "plt.figure(figsize=(10,10))\n",
    "sns.barplot(data =loan_data,x='loan_amnt_bins', y='int_rate', hue ='loan_status',palette=\"pastel\")\n",
    "plt.show()"
   ]
  },
  {
   "cell_type": "code",
   "execution_count": null,
   "id": "2eccc30d",
   "metadata": {},
   "outputs": [],
   "source": [
    "plt.figure(figsize=(10,10))\n",
    "sns.barplot(data =loan_data,x='loan_amnt', y='purpose', hue ='loan_status',palette=\"pastel\")\n",
    "plt.show()"
   ]
  },
  {
   "cell_type": "code",
   "execution_count": null,
   "id": "e269fc17",
   "metadata": {},
   "outputs": [],
   "source": [
    "plt.figure(figsize=(10,10))\n",
    "sns.barplot(data =loan_data,x='loan_amnt', y='home_ownership', hue ='loan_status',palette=\"pastel\")\n",
    "plt.show()"
   ]
  },
  {
   "cell_type": "code",
   "execution_count": null,
   "id": "388699e8",
   "metadata": {},
   "outputs": [],
   "source": [
    "plt.figure(figsize=(10,10))\n",
    "sns.barplot(data =loan_data,x='loan_amnt', y='grade', hue ='loan_status',palette=\"pastel\", order=['A','B','C','D','E','F','G'])\n",
    "plt.show()"
   ]
  },
  {
   "cell_type": "code",
   "execution_count": null,
   "id": "968ffa66",
   "metadata": {},
   "outputs": [],
   "source": [
    "plt.figure(figsize=(10,10))\n",
    "sns.barplot(data =loan_data,x='home_ownership', y='annual_inc', hue ='loan_status',palette=\"pastel\")\n",
    "plt.show()"
   ]
  },
  {
   "cell_type": "markdown",
   "id": "7544ac0c",
   "metadata": {},
   "source": [
    "## Obervations from Multivariate analysis above:"
   ]
  },
  {
   "cell_type": "code",
   "execution_count": null,
   "id": "756d12b8",
   "metadata": {},
   "outputs": [],
   "source": [
    "- loan amount increases with the increase in annual_income\n",
    "- interest rate increase with the increase in loan amount\n",
    "- charged off loans are on the higher interest rates  or interest rates are high for changed off loans\n",
    "- applicants taking loan for 'home' and 'home improvement' have annual income between 60-70k and have a higher probablity of defaulting\n",
    "- applicants who have a MORTGAGE and an annual income of 60-70k are likely for default\n",
    "- Grade F and applicants and loan amount between 15-20k\n",
    "- application whose purpose is small business"
   ]
  },
  {
   "cell_type": "markdown",
   "id": "fd9961f1",
   "metadata": {},
   "source": [
    "## Correlation matrix"
   ]
  },
  {
   "cell_type": "code",
   "execution_count": null,
   "id": "d4abb6b6",
   "metadata": {},
   "outputs": [],
   "source": [
    "loan_data_correlation = loan_data.corr()\n",
    "sns.set(font_scale=1.1)\n",
    "sns.clustermap(loan_data_correlation,annot=True,figsize=(20, 20),cmap=\"BrBG\")\n",
    "plt.show()"
   ]
  },
  {
   "cell_type": "markdown",
   "id": "6a45e6d5",
   "metadata": {},
   "source": [
    "## Observations from correlation matrix:"
   ]
  },
  {
   "cell_type": "code",
   "execution_count": null,
   "id": "37289679",
   "metadata": {},
   "outputs": [],
   "source": [
    "- loan_amnt, installment, total_payment_inv and funded_amnt_inv are strongly corelated\n",
    "- pub_rec and pub_rec_bankruptcies are strongly corelated\n",
    "- dti and annual_inc are negatively corelated"
   ]
  },
  {
   "cell_type": "code",
   "execution_count": null,
   "id": "3f79e117",
   "metadata": {},
   "outputs": [],
   "source": []
  }
 ],
 "metadata": {
  "kernelspec": {
   "display_name": "Python 3 (ipykernel)",
   "language": "python",
   "name": "python3"
  },
  "language_info": {
   "codemirror_mode": {
    "name": "ipython",
    "version": 3
   },
   "file_extension": ".py",
   "mimetype": "text/x-python",
   "name": "python",
   "nbconvert_exporter": "python",
   "pygments_lexer": "ipython3",
   "version": "3.10.9"
  }
 },
 "nbformat": 4,
 "nbformat_minor": 5
}
